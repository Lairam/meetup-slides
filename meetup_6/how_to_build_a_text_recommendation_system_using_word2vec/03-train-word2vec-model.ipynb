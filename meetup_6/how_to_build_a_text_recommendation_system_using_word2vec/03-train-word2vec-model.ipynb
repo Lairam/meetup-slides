{
 "cells": [
  {
   "cell_type": "code",
   "execution_count": 1,
   "metadata": {},
   "outputs": [],
   "source": [
    "import pandas as pd\n",
    "\n",
    "from gensim.models.phrases import Phrases, Phraser\n",
    "\n",
    "import logging  # Setting up the loggings to monitor gensim\n",
    "logging.basicConfig(format=\"%(levelname)s - %(asctime)s: %(message)s\", datefmt= '%H:%M:%S', level=logging.INFO)"
   ]
  },
  {
   "cell_type": "code",
   "execution_count": 2,
   "metadata": {},
   "outputs": [],
   "source": [
    "pd.set_option('max_colwidth', 800)\n",
    "pd.set_option('display.expand_frame_repr', False)"
   ]
  },
  {
   "cell_type": "code",
   "execution_count": 31,
   "metadata": {},
   "outputs": [],
   "source": [
    "df = pd.read_csv(\"data/processed_simpsons_dataset.csv\")"
   ]
  },
  {
   "cell_type": "code",
   "execution_count": 32,
   "metadata": {},
   "outputs": [
    {
     "data": {
      "text/html": [
       "<div>\n",
       "<style scoped>\n",
       "    .dataframe tbody tr th:only-of-type {\n",
       "        vertical-align: middle;\n",
       "    }\n",
       "\n",
       "    .dataframe tbody tr th {\n",
       "        vertical-align: top;\n",
       "    }\n",
       "\n",
       "    .dataframe thead th {\n",
       "        text-align: right;\n",
       "    }\n",
       "</style>\n",
       "<table border=\"1\" class=\"dataframe\">\n",
       "  <thead>\n",
       "    <tr style=\"text-align: right;\">\n",
       "      <th></th>\n",
       "      <th>spoken_words</th>\n",
       "    </tr>\n",
       "  </thead>\n",
       "  <tbody>\n",
       "    <tr>\n",
       "      <td>0</td>\n",
       "      <td>actually little disease magazine news show natural think</td>\n",
       "    </tr>\n",
       "    <tr>\n",
       "      <td>1</td>\n",
       "      <td>know sure like talk touch lesson plan teach</td>\n",
       "    </tr>\n",
       "    <tr>\n",
       "      <td>2</td>\n",
       "      <td>life worth live</td>\n",
       "    </tr>\n",
       "    <tr>\n",
       "      <td>3</td>\n",
       "      <td>poll open end recess case decide thought final statement martin</td>\n",
       "    </tr>\n",
       "    <tr>\n",
       "      <td>4</td>\n",
       "      <td>victory party slide</td>\n",
       "    </tr>\n",
       "  </tbody>\n",
       "</table>\n",
       "</div>"
      ],
      "text/plain": [
       "                                                      spoken_words\n",
       "0         actually little disease magazine news show natural think\n",
       "1                      know sure like talk touch lesson plan teach\n",
       "2                                                  life worth live\n",
       "3  poll open end recess case decide thought final statement martin\n",
       "4                                              victory party slide"
      ]
     },
     "execution_count": 32,
     "metadata": {},
     "output_type": "execute_result"
    }
   ],
   "source": [
    "df.head()"
   ]
  },
  {
   "cell_type": "code",
   "execution_count": 33,
   "metadata": {},
   "outputs": [],
   "source": [
    "sent = [row.split() for row in df['spoken_words']]"
   ]
  },
  {
   "cell_type": "code",
   "execution_count": 34,
   "metadata": {},
   "outputs": [
    {
     "name": "stderr",
     "output_type": "stream",
     "text": [
      "INFO - 18:44:40: collecting all words and their counts\n",
      "INFO - 18:44:40: PROGRESS: at sentence #0, processed 0 words and 0 word types\n",
      "INFO - 18:44:40: PROGRESS: at sentence #10000, processed 63414 words and 52395 word types\n",
      "INFO - 18:44:40: PROGRESS: at sentence #20000, processed 130387 words and 98568 word types\n",
      "INFO - 18:44:40: PROGRESS: at sentence #30000, processed 192369 words and 137101 word types\n",
      "INFO - 18:44:40: PROGRESS: at sentence #40000, processed 249283 words and 170989 word types\n",
      "INFO - 18:44:40: PROGRESS: at sentence #50000, processed 310323 words and 206466 word types\n",
      "INFO - 18:44:40: PROGRESS: at sentence #60000, processed 372264 words and 241169 word types\n",
      "INFO - 18:44:41: PROGRESS: at sentence #70000, processed 434951 words and 275773 word types\n",
      "INFO - 18:44:41: PROGRESS: at sentence #80000, processed 496169 words and 308714 word types\n",
      "INFO - 18:44:41: collected 329886 word types from a corpus of 540709 words (unigram + bigrams) and 86834 sentences\n",
      "INFO - 18:44:41: using 329886 counts as vocab in Phrases<0 vocab, min_count=30, threshold=10.0, max_vocab_size=40000000>\n"
     ]
    }
   ],
   "source": [
    "bigram_phraser = Phrases(sent, min_count=30, progress_per=10000)\n",
    "\n",
    "sentences = bigram_phraser[sent]"
   ]
  },
  {
   "cell_type": "code",
   "execution_count": 7,
   "metadata": {},
   "outputs": [
    {
     "name": "stdout",
     "output_type": "stream",
     "text": [
      "29648\n"
     ]
    },
    {
     "data": {
      "text/plain": [
       "['oh', 'like', 'know', 'get', 'hey', 'think', 'right', 'look', 'want', 'come']"
      ]
     },
     "execution_count": 7,
     "metadata": {},
     "output_type": "execute_result"
    }
   ],
   "source": [
    "from collections import defaultdict \n",
    "\n",
    "word_freq = defaultdict(int)\n",
    "for sent in sentences:\n",
    "    for i in sent:\n",
    "        word_freq[i] += 1\n",
    "print(len(word_freq))\n",
    "\n",
    "sorted(word_freq, key=word_freq.get, reverse=True)[:10]"
   ]
  },
  {
   "cell_type": "markdown",
   "metadata": {},
   "source": [
    "### The parameters:\n",
    "#### **min_count** = int - Ignores all words with total absolute frequency lower than this - (2, 100)\n",
    "#### **window** = int - The maximum distance between the current and predicted word within a sentence. E.g. window words on the left and window words on the left of our target - (2, 10)\n",
    "#### **size** = int - Dimensionality of the feature vectors. - (50, 300)\n",
    "#### **sample** = float - The threshold for configuring which higher-frequency words are randomly downsampled. Highly influencial. - (0, 1e-5)\n",
    "#### **alpha** = float - The initial learning rate - (0.01, 0.05)\n",
    "#### **min_alpha** = float - Learning rate will linearly drop to min_alpha as training progresses. To set it: alpha - (min_alpha * epochs) ~ 0.00\n",
    "#### **negative** = int - If > 0, negative sampling will be used, the int for negative specifies how many \"noise words\" should be drown. If set to 0, no negative sampling is used. - (5, 20)\n",
    "#### **workers** = int - Use these many worker threads to train the model (=faster training with multicore machines)"
   ]
  },
  {
   "cell_type": "code",
   "execution_count": 8,
   "metadata": {},
   "outputs": [],
   "source": [
    "import multiprocessing\n",
    "\n",
    "from gensim.models import Word2Vec\n",
    "\n",
    "cores = multiprocessing.cpu_count()\n",
    "w2v_model = Word2Vec(min_count=20,\n",
    "                     window=2,\n",
    "                     size=300,\n",
    "                     sample=6e-5, \n",
    "                     alpha=0.03, \n",
    "                     min_alpha=0.0007, \n",
    "                     negative=20,\n",
    "                     workers=cores-1)"
   ]
  },
  {
   "cell_type": "code",
   "execution_count": 9,
   "metadata": {},
   "outputs": [
    {
     "name": "stderr",
     "output_type": "stream",
     "text": [
      "INFO - 16:18:17: collecting all words and their counts\n",
      "INFO - 16:18:17: PROGRESS: at sentence #0, processed 0 words, keeping 0 word types\n",
      "INFO - 16:18:18: PROGRESS: at sentence #10000, processed 61523 words, keeping 9464 word types\n",
      "INFO - 16:18:18: PROGRESS: at sentence #20000, processed 126720 words, keeping 14262 word types\n",
      "INFO - 16:18:18: PROGRESS: at sentence #30000, processed 187097 words, keeping 17334 word types\n",
      "INFO - 16:18:18: PROGRESS: at sentence #40000, processed 242599 words, keeping 20033 word types\n",
      "INFO - 16:18:19: PROGRESS: at sentence #50000, processed 302040 words, keeping 22449 word types\n",
      "INFO - 16:18:19: PROGRESS: at sentence #60000, processed 362382 words, keeping 24710 word types\n",
      "INFO - 16:18:19: PROGRESS: at sentence #70000, processed 423597 words, keeping 26800 word types\n",
      "INFO - 16:18:19: PROGRESS: at sentence #80000, processed 483463 words, keeping 28662 word types\n",
      "INFO - 16:18:20: collected 29648 word types from a corpus of 526714 raw words and 86834 sentences\n",
      "INFO - 16:18:20: Loading a fresh vocabulary\n",
      "INFO - 16:18:20: effective_min_count=20 retains 3332 unique words (11% of original 29648, drops 26316)\n",
      "INFO - 16:18:20: effective_min_count=20 leaves 440838 word corpus (83% of original 526714, drops 85876)\n",
      "INFO - 16:18:20: deleting the raw counts dictionary of 29648 items\n",
      "INFO - 16:18:20: sample=6e-05 downsamples 1199 most-common words\n",
      "INFO - 16:18:20: downsampling leaves estimated 200910 word corpus (45.6% of prior 440838)\n",
      "INFO - 16:18:20: estimated required memory for 3332 words and 300 dimensions: 9662800 bytes\n",
      "INFO - 16:18:20: resetting layer weights\n"
     ]
    },
    {
     "name": "stdout",
     "output_type": "stream",
     "text": [
      "Time to build vocab: 0.05 mins\n"
     ]
    }
   ],
   "source": [
    "from time import time\n",
    "\n",
    "t = time()\n",
    "\n",
    "w2v_model.build_vocab(sentences, progress_per=10000)\n",
    "\n",
    "print('Time to build vocab: {} mins'.format(round((time() - t) / 60, 2)))"
   ]
  },
  {
   "cell_type": "code",
   "execution_count": 10,
   "metadata": {
    "scrolled": true
   },
   "outputs": [
    {
     "name": "stderr",
     "output_type": "stream",
     "text": [
      "INFO - 16:18:20: training model with 11 workers on 3332 vocabulary and 300 features, using sg=0 hs=0 sample=6e-05 negative=20 window=2\n",
      "INFO - 16:18:21: EPOCH 1 - PROGRESS: at 41.22% examples, 81474 words/s, in_qsize 0, out_qsize 0\n",
      "INFO - 16:18:22: EPOCH 1 - PROGRESS: at 81.76% examples, 80363 words/s, in_qsize 0, out_qsize 0\n",
      "INFO - 16:18:23: worker thread finished; awaiting finish of 10 more threads\n",
      "INFO - 16:18:23: worker thread finished; awaiting finish of 9 more threads\n",
      "INFO - 16:18:23: worker thread finished; awaiting finish of 8 more threads\n",
      "INFO - 16:18:23: worker thread finished; awaiting finish of 7 more threads\n",
      "INFO - 16:18:23: worker thread finished; awaiting finish of 6 more threads\n",
      "INFO - 16:18:23: worker thread finished; awaiting finish of 5 more threads\n",
      "INFO - 16:18:23: worker thread finished; awaiting finish of 4 more threads\n",
      "INFO - 16:18:23: worker thread finished; awaiting finish of 3 more threads\n",
      "INFO - 16:18:23: worker thread finished; awaiting finish of 2 more threads\n",
      "INFO - 16:18:23: worker thread finished; awaiting finish of 1 more threads\n",
      "INFO - 16:18:23: worker thread finished; awaiting finish of 0 more threads\n",
      "INFO - 16:18:23: EPOCH - 1 : training on 526714 raw words (201255 effective words) took 2.5s, 79413 effective words/s\n",
      "INFO - 16:18:24: EPOCH 2 - PROGRESS: at 39.10% examples, 78024 words/s, in_qsize 0, out_qsize 0\n",
      "INFO - 16:18:25: EPOCH 2 - PROGRESS: at 81.76% examples, 80167 words/s, in_qsize 0, out_qsize 0\n",
      "INFO - 16:18:25: worker thread finished; awaiting finish of 10 more threads\n",
      "INFO - 16:18:25: worker thread finished; awaiting finish of 9 more threads\n",
      "INFO - 16:18:25: worker thread finished; awaiting finish of 8 more threads\n",
      "INFO - 16:18:25: worker thread finished; awaiting finish of 7 more threads\n",
      "INFO - 16:18:25: worker thread finished; awaiting finish of 6 more threads\n",
      "INFO - 16:18:25: worker thread finished; awaiting finish of 5 more threads\n",
      "INFO - 16:18:25: worker thread finished; awaiting finish of 4 more threads\n",
      "INFO - 16:18:25: worker thread finished; awaiting finish of 3 more threads\n",
      "INFO - 16:18:25: worker thread finished; awaiting finish of 2 more threads\n",
      "INFO - 16:18:25: worker thread finished; awaiting finish of 1 more threads\n",
      "INFO - 16:18:25: worker thread finished; awaiting finish of 0 more threads\n",
      "INFO - 16:18:25: EPOCH - 2 : training on 526714 raw words (201128 effective words) took 2.5s, 80792 effective words/s\n",
      "INFO - 16:18:26: EPOCH 3 - PROGRESS: at 39.10% examples, 77379 words/s, in_qsize 0, out_qsize 0\n",
      "INFO - 16:18:27: EPOCH 3 - PROGRESS: at 81.76% examples, 78994 words/s, in_qsize 0, out_qsize 0\n",
      "INFO - 16:18:28: worker thread finished; awaiting finish of 10 more threads\n",
      "INFO - 16:18:28: worker thread finished; awaiting finish of 9 more threads\n",
      "INFO - 16:18:28: worker thread finished; awaiting finish of 8 more threads\n",
      "INFO - 16:18:28: worker thread finished; awaiting finish of 7 more threads\n",
      "INFO - 16:18:28: worker thread finished; awaiting finish of 6 more threads\n",
      "INFO - 16:18:28: worker thread finished; awaiting finish of 5 more threads\n",
      "INFO - 16:18:28: worker thread finished; awaiting finish of 4 more threads\n",
      "INFO - 16:18:28: worker thread finished; awaiting finish of 3 more threads\n",
      "INFO - 16:18:28: worker thread finished; awaiting finish of 2 more threads\n",
      "INFO - 16:18:28: worker thread finished; awaiting finish of 1 more threads\n",
      "INFO - 16:18:28: worker thread finished; awaiting finish of 0 more threads\n",
      "INFO - 16:18:28: EPOCH - 3 : training on 526714 raw words (200857 effective words) took 2.5s, 80651 effective words/s\n",
      "INFO - 16:18:29: EPOCH 4 - PROGRESS: at 41.22% examples, 80786 words/s, in_qsize 0, out_qsize 0\n",
      "INFO - 16:18:30: EPOCH 4 - PROGRESS: at 79.90% examples, 77536 words/s, in_qsize 0, out_qsize 0\n",
      "INFO - 16:18:30: worker thread finished; awaiting finish of 10 more threads\n",
      "INFO - 16:18:30: worker thread finished; awaiting finish of 9 more threads\n",
      "INFO - 16:18:30: worker thread finished; awaiting finish of 8 more threads\n",
      "INFO - 16:18:30: worker thread finished; awaiting finish of 7 more threads\n",
      "INFO - 16:18:30: worker thread finished; awaiting finish of 6 more threads\n",
      "INFO - 16:18:30: worker thread finished; awaiting finish of 5 more threads\n",
      "INFO - 16:18:30: worker thread finished; awaiting finish of 4 more threads\n",
      "INFO - 16:18:30: worker thread finished; awaiting finish of 3 more threads\n",
      "INFO - 16:18:30: worker thread finished; awaiting finish of 2 more threads\n",
      "INFO - 16:18:30: worker thread finished; awaiting finish of 1 more threads\n",
      "INFO - 16:18:30: worker thread finished; awaiting finish of 0 more threads\n",
      "INFO - 16:18:30: EPOCH - 4 : training on 526714 raw words (201029 effective words) took 2.6s, 78330 effective words/s\n",
      "INFO - 16:18:31: EPOCH 5 - PROGRESS: at 39.10% examples, 79418 words/s, in_qsize 0, out_qsize 0\n",
      "INFO - 16:18:32: EPOCH 5 - PROGRESS: at 79.90% examples, 76927 words/s, in_qsize 0, out_qsize 0\n",
      "INFO - 16:18:33: worker thread finished; awaiting finish of 10 more threads\n",
      "INFO - 16:18:33: worker thread finished; awaiting finish of 9 more threads\n",
      "INFO - 16:18:33: worker thread finished; awaiting finish of 8 more threads\n",
      "INFO - 16:18:33: worker thread finished; awaiting finish of 7 more threads\n",
      "INFO - 16:18:33: worker thread finished; awaiting finish of 6 more threads\n",
      "INFO - 16:18:33: worker thread finished; awaiting finish of 5 more threads\n",
      "INFO - 16:18:33: worker thread finished; awaiting finish of 4 more threads\n",
      "INFO - 16:18:33: worker thread finished; awaiting finish of 3 more threads\n",
      "INFO - 16:18:33: worker thread finished; awaiting finish of 2 more threads\n",
      "INFO - 16:18:33: worker thread finished; awaiting finish of 1 more threads\n",
      "INFO - 16:18:33: worker thread finished; awaiting finish of 0 more threads\n",
      "INFO - 16:18:33: EPOCH - 5 : training on 526714 raw words (201037 effective words) took 2.6s, 78304 effective words/s\n",
      "INFO - 16:18:34: EPOCH 6 - PROGRESS: at 41.22% examples, 79860 words/s, in_qsize 0, out_qsize 0\n",
      "INFO - 16:18:35: EPOCH 6 - PROGRESS: at 81.76% examples, 78717 words/s, in_qsize 0, out_qsize 0\n",
      "INFO - 16:18:35: worker thread finished; awaiting finish of 10 more threads\n",
      "INFO - 16:18:35: worker thread finished; awaiting finish of 9 more threads\n",
      "INFO - 16:18:35: worker thread finished; awaiting finish of 8 more threads\n",
      "INFO - 16:18:35: worker thread finished; awaiting finish of 7 more threads\n",
      "INFO - 16:18:35: worker thread finished; awaiting finish of 6 more threads\n",
      "INFO - 16:18:35: worker thread finished; awaiting finish of 5 more threads\n",
      "INFO - 16:18:36: worker thread finished; awaiting finish of 4 more threads\n",
      "INFO - 16:18:36: worker thread finished; awaiting finish of 3 more threads\n",
      "INFO - 16:18:36: worker thread finished; awaiting finish of 2 more threads\n",
      "INFO - 16:18:36: worker thread finished; awaiting finish of 1 more threads\n",
      "INFO - 16:18:36: worker thread finished; awaiting finish of 0 more threads\n",
      "INFO - 16:18:36: EPOCH - 6 : training on 526714 raw words (200489 effective words) took 2.5s, 79488 effective words/s\n",
      "INFO - 16:18:37: EPOCH 7 - PROGRESS: at 37.16% examples, 75147 words/s, in_qsize 0, out_qsize 0\n",
      "INFO - 16:18:38: EPOCH 7 - PROGRESS: at 78.06% examples, 77504 words/s, in_qsize 0, out_qsize 0\n",
      "INFO - 16:18:38: worker thread finished; awaiting finish of 10 more threads\n",
      "INFO - 16:18:38: worker thread finished; awaiting finish of 9 more threads\n",
      "INFO - 16:18:38: worker thread finished; awaiting finish of 8 more threads\n",
      "INFO - 16:18:38: worker thread finished; awaiting finish of 7 more threads\n",
      "INFO - 16:18:38: worker thread finished; awaiting finish of 6 more threads\n",
      "INFO - 16:18:38: worker thread finished; awaiting finish of 5 more threads\n",
      "INFO - 16:18:38: worker thread finished; awaiting finish of 4 more threads\n",
      "INFO - 16:18:38: worker thread finished; awaiting finish of 3 more threads\n",
      "INFO - 16:18:38: worker thread finished; awaiting finish of 2 more threads\n",
      "INFO - 16:18:38: worker thread finished; awaiting finish of 1 more threads\n",
      "INFO - 16:18:38: worker thread finished; awaiting finish of 0 more threads\n",
      "INFO - 16:18:38: EPOCH - 7 : training on 526714 raw words (201437 effective words) took 2.5s, 79268 effective words/s\n",
      "INFO - 16:18:39: EPOCH 8 - PROGRESS: at 39.10% examples, 76829 words/s, in_qsize 0, out_qsize 0\n",
      "INFO - 16:18:40: EPOCH 8 - PROGRESS: at 81.76% examples, 79373 words/s, in_qsize 0, out_qsize 0\n",
      "INFO - 16:18:41: worker thread finished; awaiting finish of 10 more threads\n",
      "INFO - 16:18:41: worker thread finished; awaiting finish of 9 more threads\n",
      "INFO - 16:18:41: worker thread finished; awaiting finish of 8 more threads\n",
      "INFO - 16:18:41: worker thread finished; awaiting finish of 7 more threads\n",
      "INFO - 16:18:41: worker thread finished; awaiting finish of 6 more threads\n",
      "INFO - 16:18:41: worker thread finished; awaiting finish of 5 more threads\n",
      "INFO - 16:18:41: worker thread finished; awaiting finish of 4 more threads\n",
      "INFO - 16:18:41: worker thread finished; awaiting finish of 3 more threads\n",
      "INFO - 16:18:41: worker thread finished; awaiting finish of 2 more threads\n",
      "INFO - 16:18:41: worker thread finished; awaiting finish of 1 more threads\n",
      "INFO - 16:18:41: worker thread finished; awaiting finish of 0 more threads\n",
      "INFO - 16:18:41: EPOCH - 8 : training on 526714 raw words (200825 effective words) took 2.5s, 79624 effective words/s\n",
      "INFO - 16:18:42: EPOCH 9 - PROGRESS: at 39.10% examples, 76990 words/s, in_qsize 0, out_qsize 0\n",
      "INFO - 16:18:43: EPOCH 9 - PROGRESS: at 79.90% examples, 77122 words/s, in_qsize 0, out_qsize 0\n",
      "INFO - 16:18:43: worker thread finished; awaiting finish of 10 more threads\n",
      "INFO - 16:18:43: worker thread finished; awaiting finish of 9 more threads\n",
      "INFO - 16:18:43: worker thread finished; awaiting finish of 8 more threads\n",
      "INFO - 16:18:43: worker thread finished; awaiting finish of 7 more threads\n",
      "INFO - 16:18:43: worker thread finished; awaiting finish of 6 more threads\n",
      "INFO - 16:18:43: worker thread finished; awaiting finish of 5 more threads\n",
      "INFO - 16:18:43: worker thread finished; awaiting finish of 4 more threads\n",
      "INFO - 16:18:43: worker thread finished; awaiting finish of 3 more threads\n",
      "INFO - 16:18:43: worker thread finished; awaiting finish of 2 more threads\n",
      "INFO - 16:18:43: worker thread finished; awaiting finish of 1 more threads\n",
      "INFO - 16:18:43: worker thread finished; awaiting finish of 0 more threads\n",
      "INFO - 16:18:43: EPOCH - 9 : training on 526714 raw words (201097 effective words) took 2.6s, 78292 effective words/s\n",
      "INFO - 16:18:44: EPOCH 10 - PROGRESS: at 39.10% examples, 77945 words/s, in_qsize 0, out_qsize 0\n",
      "INFO - 16:18:45: EPOCH 10 - PROGRESS: at 78.06% examples, 76874 words/s, in_qsize 0, out_qsize 0\n",
      "INFO - 16:18:46: worker thread finished; awaiting finish of 10 more threads\n",
      "INFO - 16:18:46: worker thread finished; awaiting finish of 9 more threads\n",
      "INFO - 16:18:46: worker thread finished; awaiting finish of 8 more threads\n",
      "INFO - 16:18:46: worker thread finished; awaiting finish of 7 more threads\n",
      "INFO - 16:18:46: worker thread finished; awaiting finish of 6 more threads\n",
      "INFO - 16:18:46: worker thread finished; awaiting finish of 5 more threads\n",
      "INFO - 16:18:46: worker thread finished; awaiting finish of 4 more threads\n",
      "INFO - 16:18:46: worker thread finished; awaiting finish of 3 more threads\n",
      "INFO - 16:18:46: worker thread finished; awaiting finish of 2 more threads\n",
      "INFO - 16:18:46: worker thread finished; awaiting finish of 1 more threads\n",
      "INFO - 16:18:46: worker thread finished; awaiting finish of 0 more threads\n",
      "INFO - 16:18:46: EPOCH - 10 : training on 526714 raw words (200935 effective words) took 2.6s, 77915 effective words/s\n",
      "INFO - 16:18:47: EPOCH 11 - PROGRESS: at 43.37% examples, 84220 words/s, in_qsize 0, out_qsize 0\n",
      "INFO - 16:18:48: EPOCH 11 - PROGRESS: at 85.60% examples, 83112 words/s, in_qsize 0, out_qsize 0\n",
      "INFO - 16:18:48: worker thread finished; awaiting finish of 10 more threads\n",
      "INFO - 16:18:48: worker thread finished; awaiting finish of 9 more threads\n",
      "INFO - 16:18:48: worker thread finished; awaiting finish of 8 more threads\n",
      "INFO - 16:18:48: worker thread finished; awaiting finish of 7 more threads\n",
      "INFO - 16:18:48: worker thread finished; awaiting finish of 6 more threads\n",
      "INFO - 16:18:48: worker thread finished; awaiting finish of 5 more threads\n",
      "INFO - 16:18:48: worker thread finished; awaiting finish of 4 more threads\n",
      "INFO - 16:18:48: worker thread finished; awaiting finish of 3 more threads\n",
      "INFO - 16:18:48: worker thread finished; awaiting finish of 2 more threads\n",
      "INFO - 16:18:48: worker thread finished; awaiting finish of 1 more threads\n",
      "INFO - 16:18:48: worker thread finished; awaiting finish of 0 more threads\n",
      "INFO - 16:18:48: EPOCH - 11 : training on 526714 raw words (200924 effective words) took 2.5s, 80275 effective words/s\n",
      "INFO - 16:18:49: EPOCH 12 - PROGRESS: at 41.22% examples, 82743 words/s, in_qsize 0, out_qsize 0\n",
      "INFO - 16:18:50: EPOCH 12 - PROGRESS: at 85.60% examples, 83886 words/s, in_qsize 0, out_qsize 0\n",
      "INFO - 16:18:51: worker thread finished; awaiting finish of 10 more threads\n",
      "INFO - 16:18:51: worker thread finished; awaiting finish of 9 more threads\n",
      "INFO - 16:18:51: worker thread finished; awaiting finish of 8 more threads\n",
      "INFO - 16:18:51: worker thread finished; awaiting finish of 7 more threads\n",
      "INFO - 16:18:51: worker thread finished; awaiting finish of 6 more threads\n",
      "INFO - 16:18:51: worker thread finished; awaiting finish of 5 more threads\n",
      "INFO - 16:18:51: worker thread finished; awaiting finish of 4 more threads\n",
      "INFO - 16:18:51: worker thread finished; awaiting finish of 3 more threads\n",
      "INFO - 16:18:51: worker thread finished; awaiting finish of 2 more threads\n",
      "INFO - 16:18:51: worker thread finished; awaiting finish of 1 more threads\n",
      "INFO - 16:18:51: worker thread finished; awaiting finish of 0 more threads\n",
      "INFO - 16:18:51: EPOCH - 12 : training on 526714 raw words (200772 effective words) took 2.4s, 84269 effective words/s\n",
      "INFO - 16:18:52: EPOCH 13 - PROGRESS: at 39.10% examples, 79544 words/s, in_qsize 0, out_qsize 0\n",
      "INFO - 16:18:53: EPOCH 13 - PROGRESS: at 83.67% examples, 82349 words/s, in_qsize 0, out_qsize 0\n",
      "INFO - 16:18:53: worker thread finished; awaiting finish of 10 more threads\n",
      "INFO - 16:18:53: worker thread finished; awaiting finish of 9 more threads\n",
      "INFO - 16:18:53: worker thread finished; awaiting finish of 8 more threads\n",
      "INFO - 16:18:53: worker thread finished; awaiting finish of 7 more threads\n",
      "INFO - 16:18:53: worker thread finished; awaiting finish of 6 more threads\n",
      "INFO - 16:18:53: worker thread finished; awaiting finish of 5 more threads\n",
      "INFO - 16:18:53: worker thread finished; awaiting finish of 4 more threads\n",
      "INFO - 16:18:53: worker thread finished; awaiting finish of 3 more threads\n",
      "INFO - 16:18:53: worker thread finished; awaiting finish of 2 more threads\n",
      "INFO - 16:18:53: worker thread finished; awaiting finish of 1 more threads\n",
      "INFO - 16:18:53: worker thread finished; awaiting finish of 0 more threads\n",
      "INFO - 16:18:53: EPOCH - 13 : training on 526714 raw words (200819 effective words) took 2.4s, 82930 effective words/s\n",
      "INFO - 16:18:54: EPOCH 14 - PROGRESS: at 41.22% examples, 78297 words/s, in_qsize 0, out_qsize 0\n",
      "INFO - 16:18:55: EPOCH 14 - PROGRESS: at 81.76% examples, 78571 words/s, in_qsize 0, out_qsize 0\n",
      "INFO - 16:18:56: worker thread finished; awaiting finish of 10 more threads\n",
      "INFO - 16:18:56: worker thread finished; awaiting finish of 9 more threads\n",
      "INFO - 16:18:56: worker thread finished; awaiting finish of 8 more threads\n",
      "INFO - 16:18:56: worker thread finished; awaiting finish of 7 more threads\n",
      "INFO - 16:18:56: worker thread finished; awaiting finish of 6 more threads\n",
      "INFO - 16:18:56: worker thread finished; awaiting finish of 5 more threads\n",
      "INFO - 16:18:56: worker thread finished; awaiting finish of 4 more threads\n",
      "INFO - 16:18:56: worker thread finished; awaiting finish of 3 more threads\n",
      "INFO - 16:18:56: worker thread finished; awaiting finish of 2 more threads\n",
      "INFO - 16:18:56: worker thread finished; awaiting finish of 1 more threads\n",
      "INFO - 16:18:56: worker thread finished; awaiting finish of 0 more threads\n",
      "INFO - 16:18:56: EPOCH - 14 : training on 526714 raw words (200956 effective words) took 2.6s, 78353 effective words/s\n",
      "INFO - 16:18:57: EPOCH 15 - PROGRESS: at 39.10% examples, 79346 words/s, in_qsize 0, out_qsize 0\n",
      "INFO - 16:18:58: EPOCH 15 - PROGRESS: at 79.90% examples, 78429 words/s, in_qsize 0, out_qsize 0\n",
      "INFO - 16:18:58: worker thread finished; awaiting finish of 10 more threads\n",
      "INFO - 16:18:58: worker thread finished; awaiting finish of 9 more threads\n",
      "INFO - 16:18:58: worker thread finished; awaiting finish of 8 more threads\n",
      "INFO - 16:18:58: worker thread finished; awaiting finish of 7 more threads\n",
      "INFO - 16:18:58: worker thread finished; awaiting finish of 6 more threads\n",
      "INFO - 16:18:58: worker thread finished; awaiting finish of 5 more threads\n",
      "INFO - 16:18:58: worker thread finished; awaiting finish of 4 more threads\n",
      "INFO - 16:18:58: worker thread finished; awaiting finish of 3 more threads\n",
      "INFO - 16:18:58: worker thread finished; awaiting finish of 2 more threads\n",
      "INFO - 16:18:58: worker thread finished; awaiting finish of 1 more threads\n",
      "INFO - 16:18:58: worker thread finished; awaiting finish of 0 more threads\n",
      "INFO - 16:18:58: EPOCH - 15 : training on 526714 raw words (200959 effective words) took 2.5s, 79386 effective words/s\n",
      "INFO - 16:18:59: EPOCH 16 - PROGRESS: at 39.10% examples, 79603 words/s, in_qsize 0, out_qsize 0\n",
      "INFO - 16:19:00: EPOCH 16 - PROGRESS: at 79.90% examples, 79762 words/s, in_qsize 0, out_qsize 0\n",
      "INFO - 16:19:01: worker thread finished; awaiting finish of 10 more threads\n",
      "INFO - 16:19:01: worker thread finished; awaiting finish of 9 more threads\n",
      "INFO - 16:19:01: worker thread finished; awaiting finish of 8 more threads\n",
      "INFO - 16:19:01: worker thread finished; awaiting finish of 7 more threads\n",
      "INFO - 16:19:01: worker thread finished; awaiting finish of 6 more threads\n",
      "INFO - 16:19:01: worker thread finished; awaiting finish of 5 more threads\n",
      "INFO - 16:19:01: worker thread finished; awaiting finish of 4 more threads\n",
      "INFO - 16:19:01: worker thread finished; awaiting finish of 3 more threads\n",
      "INFO - 16:19:01: worker thread finished; awaiting finish of 2 more threads\n",
      "INFO - 16:19:01: worker thread finished; awaiting finish of 1 more threads\n",
      "INFO - 16:19:01: worker thread finished; awaiting finish of 0 more threads\n",
      "INFO - 16:19:01: EPOCH - 16 : training on 526714 raw words (201093 effective words) took 2.6s, 78614 effective words/s\n",
      "INFO - 16:19:02: EPOCH 17 - PROGRESS: at 41.22% examples, 80480 words/s, in_qsize 0, out_qsize 0\n",
      "INFO - 16:19:03: EPOCH 17 - PROGRESS: at 81.76% examples, 80314 words/s, in_qsize 0, out_qsize 0\n",
      "INFO - 16:19:03: worker thread finished; awaiting finish of 10 more threads\n",
      "INFO - 16:19:03: worker thread finished; awaiting finish of 9 more threads\n",
      "INFO - 16:19:03: worker thread finished; awaiting finish of 8 more threads\n",
      "INFO - 16:19:03: worker thread finished; awaiting finish of 7 more threads\n",
      "INFO - 16:19:03: worker thread finished; awaiting finish of 6 more threads\n",
      "INFO - 16:19:03: worker thread finished; awaiting finish of 5 more threads\n",
      "INFO - 16:19:03: worker thread finished; awaiting finish of 4 more threads\n",
      "INFO - 16:19:03: worker thread finished; awaiting finish of 3 more threads\n",
      "INFO - 16:19:03: worker thread finished; awaiting finish of 2 more threads\n",
      "INFO - 16:19:03: worker thread finished; awaiting finish of 1 more threads\n",
      "INFO - 16:19:03: worker thread finished; awaiting finish of 0 more threads\n",
      "INFO - 16:19:03: EPOCH - 17 : training on 526714 raw words (200983 effective words) took 2.5s, 80400 effective words/s\n",
      "INFO - 16:19:04: EPOCH 18 - PROGRESS: at 37.16% examples, 74735 words/s, in_qsize 0, out_qsize 0\n",
      "INFO - 16:19:05: EPOCH 18 - PROGRESS: at 79.90% examples, 78488 words/s, in_qsize 0, out_qsize 0\n",
      "INFO - 16:19:06: worker thread finished; awaiting finish of 10 more threads\n",
      "INFO - 16:19:06: worker thread finished; awaiting finish of 9 more threads\n",
      "INFO - 16:19:06: worker thread finished; awaiting finish of 8 more threads\n",
      "INFO - 16:19:06: worker thread finished; awaiting finish of 7 more threads\n",
      "INFO - 16:19:06: worker thread finished; awaiting finish of 6 more threads\n",
      "INFO - 16:19:06: worker thread finished; awaiting finish of 5 more threads\n",
      "INFO - 16:19:06: worker thread finished; awaiting finish of 4 more threads\n",
      "INFO - 16:19:06: worker thread finished; awaiting finish of 3 more threads\n",
      "INFO - 16:19:06: worker thread finished; awaiting finish of 2 more threads\n",
      "INFO - 16:19:06: worker thread finished; awaiting finish of 1 more threads\n",
      "INFO - 16:19:06: worker thread finished; awaiting finish of 0 more threads\n",
      "INFO - 16:19:06: EPOCH - 18 : training on 526714 raw words (200600 effective words) took 2.5s, 79254 effective words/s\n",
      "INFO - 16:19:07: EPOCH 19 - PROGRESS: at 37.16% examples, 72138 words/s, in_qsize 0, out_qsize 0\n",
      "INFO - 16:19:08: EPOCH 19 - PROGRESS: at 79.90% examples, 77264 words/s, in_qsize 0, out_qsize 0\n",
      "INFO - 16:19:08: worker thread finished; awaiting finish of 10 more threads\n",
      "INFO - 16:19:08: worker thread finished; awaiting finish of 9 more threads\n",
      "INFO - 16:19:08: worker thread finished; awaiting finish of 8 more threads\n",
      "INFO - 16:19:08: worker thread finished; awaiting finish of 7 more threads\n",
      "INFO - 16:19:08: worker thread finished; awaiting finish of 6 more threads\n",
      "INFO - 16:19:08: worker thread finished; awaiting finish of 5 more threads\n",
      "INFO - 16:19:08: worker thread finished; awaiting finish of 4 more threads\n",
      "INFO - 16:19:08: worker thread finished; awaiting finish of 3 more threads\n",
      "INFO - 16:19:08: worker thread finished; awaiting finish of 2 more threads\n",
      "INFO - 16:19:08: worker thread finished; awaiting finish of 1 more threads\n",
      "INFO - 16:19:08: worker thread finished; awaiting finish of 0 more threads\n",
      "INFO - 16:19:08: EPOCH - 19 : training on 526714 raw words (200857 effective words) took 2.6s, 76808 effective words/s\n",
      "INFO - 16:19:09: EPOCH 20 - PROGRESS: at 39.10% examples, 79705 words/s, in_qsize 0, out_qsize 0\n",
      "INFO - 16:19:10: EPOCH 20 - PROGRESS: at 78.06% examples, 77569 words/s, in_qsize 0, out_qsize 0\n",
      "INFO - 16:19:11: worker thread finished; awaiting finish of 10 more threads\n",
      "INFO - 16:19:11: worker thread finished; awaiting finish of 9 more threads\n",
      "INFO - 16:19:11: worker thread finished; awaiting finish of 8 more threads\n",
      "INFO - 16:19:11: worker thread finished; awaiting finish of 7 more threads\n",
      "INFO - 16:19:11: worker thread finished; awaiting finish of 6 more threads\n",
      "INFO - 16:19:11: worker thread finished; awaiting finish of 5 more threads\n",
      "INFO - 16:19:11: worker thread finished; awaiting finish of 4 more threads\n",
      "INFO - 16:19:11: worker thread finished; awaiting finish of 3 more threads\n",
      "INFO - 16:19:11: worker thread finished; awaiting finish of 2 more threads\n",
      "INFO - 16:19:11: worker thread finished; awaiting finish of 1 more threads\n",
      "INFO - 16:19:11: worker thread finished; awaiting finish of 0 more threads\n",
      "INFO - 16:19:11: EPOCH - 20 : training on 526714 raw words (200793 effective words) took 2.6s, 78203 effective words/s\n",
      "INFO - 16:19:12: EPOCH 21 - PROGRESS: at 41.22% examples, 83073 words/s, in_qsize 0, out_qsize 0\n",
      "INFO - 16:19:13: EPOCH 21 - PROGRESS: at 83.67% examples, 82005 words/s, in_qsize 0, out_qsize 0\n",
      "INFO - 16:19:13: worker thread finished; awaiting finish of 10 more threads\n",
      "INFO - 16:19:13: worker thread finished; awaiting finish of 9 more threads\n",
      "INFO - 16:19:13: worker thread finished; awaiting finish of 8 more threads\n",
      "INFO - 16:19:13: worker thread finished; awaiting finish of 7 more threads\n",
      "INFO - 16:19:13: worker thread finished; awaiting finish of 6 more threads\n",
      "INFO - 16:19:13: worker thread finished; awaiting finish of 5 more threads\n",
      "INFO - 16:19:13: worker thread finished; awaiting finish of 4 more threads\n",
      "INFO - 16:19:13: worker thread finished; awaiting finish of 3 more threads\n",
      "INFO - 16:19:13: worker thread finished; awaiting finish of 2 more threads\n",
      "INFO - 16:19:13: worker thread finished; awaiting finish of 1 more threads\n",
      "INFO - 16:19:13: worker thread finished; awaiting finish of 0 more threads\n",
      "INFO - 16:19:13: EPOCH - 21 : training on 526714 raw words (201291 effective words) took 2.5s, 82151 effective words/s\n",
      "INFO - 16:19:14: EPOCH 22 - PROGRESS: at 41.22% examples, 82660 words/s, in_qsize 0, out_qsize 0\n",
      "INFO - 16:19:16: EPOCH 22 - PROGRESS: at 81.76% examples, 80779 words/s, in_qsize 0, out_qsize 0\n",
      "INFO - 16:19:16: worker thread finished; awaiting finish of 10 more threads\n",
      "INFO - 16:19:16: worker thread finished; awaiting finish of 9 more threads\n",
      "INFO - 16:19:16: worker thread finished; awaiting finish of 8 more threads\n",
      "INFO - 16:19:16: worker thread finished; awaiting finish of 7 more threads\n",
      "INFO - 16:19:16: worker thread finished; awaiting finish of 6 more threads\n",
      "INFO - 16:19:16: worker thread finished; awaiting finish of 5 more threads\n",
      "INFO - 16:19:16: worker thread finished; awaiting finish of 4 more threads\n",
      "INFO - 16:19:16: worker thread finished; awaiting finish of 3 more threads\n",
      "INFO - 16:19:16: worker thread finished; awaiting finish of 2 more threads\n",
      "INFO - 16:19:16: worker thread finished; awaiting finish of 1 more threads\n",
      "INFO - 16:19:16: worker thread finished; awaiting finish of 0 more threads\n",
      "INFO - 16:19:16: EPOCH - 22 : training on 526714 raw words (200793 effective words) took 2.5s, 80327 effective words/s\n",
      "INFO - 16:19:17: EPOCH 23 - PROGRESS: at 39.10% examples, 78822 words/s, in_qsize 0, out_qsize 0\n",
      "INFO - 16:19:18: EPOCH 23 - PROGRESS: at 81.76% examples, 79856 words/s, in_qsize 0, out_qsize 0\n",
      "INFO - 16:19:18: worker thread finished; awaiting finish of 10 more threads\n",
      "INFO - 16:19:18: worker thread finished; awaiting finish of 9 more threads\n",
      "INFO - 16:19:18: worker thread finished; awaiting finish of 8 more threads\n",
      "INFO - 16:19:18: worker thread finished; awaiting finish of 7 more threads\n",
      "INFO - 16:19:18: worker thread finished; awaiting finish of 6 more threads\n",
      "INFO - 16:19:18: worker thread finished; awaiting finish of 5 more threads\n",
      "INFO - 16:19:18: worker thread finished; awaiting finish of 4 more threads\n",
      "INFO - 16:19:18: worker thread finished; awaiting finish of 3 more threads\n",
      "INFO - 16:19:18: worker thread finished; awaiting finish of 2 more threads\n",
      "INFO - 16:19:18: worker thread finished; awaiting finish of 1 more threads\n",
      "INFO - 16:19:18: worker thread finished; awaiting finish of 0 more threads\n",
      "INFO - 16:19:18: EPOCH - 23 : training on 526714 raw words (200678 effective words) took 2.5s, 80240 effective words/s\n",
      "INFO - 16:19:20: EPOCH 24 - PROGRESS: at 39.10% examples, 78911 words/s, in_qsize 0, out_qsize 0\n",
      "INFO - 16:19:21: EPOCH 24 - PROGRESS: at 81.76% examples, 81016 words/s, in_qsize 0, out_qsize 0\n",
      "INFO - 16:19:21: worker thread finished; awaiting finish of 10 more threads\n",
      "INFO - 16:19:21: worker thread finished; awaiting finish of 9 more threads\n",
      "INFO - 16:19:21: worker thread finished; awaiting finish of 8 more threads\n",
      "INFO - 16:19:21: worker thread finished; awaiting finish of 7 more threads\n",
      "INFO - 16:19:21: worker thread finished; awaiting finish of 6 more threads\n",
      "INFO - 16:19:21: worker thread finished; awaiting finish of 5 more threads\n",
      "INFO - 16:19:21: worker thread finished; awaiting finish of 4 more threads\n",
      "INFO - 16:19:21: worker thread finished; awaiting finish of 3 more threads\n",
      "INFO - 16:19:21: worker thread finished; awaiting finish of 2 more threads\n",
      "INFO - 16:19:21: worker thread finished; awaiting finish of 1 more threads\n",
      "INFO - 16:19:21: worker thread finished; awaiting finish of 0 more threads\n",
      "INFO - 16:19:21: EPOCH - 24 : training on 526714 raw words (200778 effective words) took 2.5s, 80733 effective words/s\n",
      "INFO - 16:19:22: EPOCH 25 - PROGRESS: at 43.37% examples, 84596 words/s, in_qsize 0, out_qsize 0\n",
      "INFO - 16:19:23: EPOCH 25 - PROGRESS: at 81.76% examples, 80187 words/s, in_qsize 0, out_qsize 0\n",
      "INFO - 16:19:23: worker thread finished; awaiting finish of 10 more threads\n",
      "INFO - 16:19:23: worker thread finished; awaiting finish of 9 more threads\n",
      "INFO - 16:19:23: worker thread finished; awaiting finish of 8 more threads\n",
      "INFO - 16:19:23: worker thread finished; awaiting finish of 7 more threads\n",
      "INFO - 16:19:23: worker thread finished; awaiting finish of 6 more threads\n",
      "INFO - 16:19:23: worker thread finished; awaiting finish of 5 more threads\n",
      "INFO - 16:19:23: worker thread finished; awaiting finish of 4 more threads\n",
      "INFO - 16:19:23: worker thread finished; awaiting finish of 3 more threads\n",
      "INFO - 16:19:23: worker thread finished; awaiting finish of 2 more threads\n",
      "INFO - 16:19:23: worker thread finished; awaiting finish of 1 more threads\n",
      "INFO - 16:19:23: worker thread finished; awaiting finish of 0 more threads\n",
      "INFO - 16:19:23: EPOCH - 25 : training on 526714 raw words (200790 effective words) took 2.5s, 81337 effective words/s\n",
      "INFO - 16:19:25: EPOCH 26 - PROGRESS: at 41.22% examples, 81427 words/s, in_qsize 0, out_qsize 0\n",
      "INFO - 16:19:26: EPOCH 26 - PROGRESS: at 79.90% examples, 77658 words/s, in_qsize 0, out_qsize 0\n",
      "INFO - 16:19:26: worker thread finished; awaiting finish of 10 more threads\n",
      "INFO - 16:19:26: worker thread finished; awaiting finish of 9 more threads\n",
      "INFO - 16:19:26: worker thread finished; awaiting finish of 8 more threads\n",
      "INFO - 16:19:26: worker thread finished; awaiting finish of 7 more threads\n",
      "INFO - 16:19:26: worker thread finished; awaiting finish of 6 more threads\n",
      "INFO - 16:19:26: worker thread finished; awaiting finish of 5 more threads\n",
      "INFO - 16:19:26: worker thread finished; awaiting finish of 4 more threads\n",
      "INFO - 16:19:26: worker thread finished; awaiting finish of 3 more threads\n",
      "INFO - 16:19:26: worker thread finished; awaiting finish of 2 more threads\n",
      "INFO - 16:19:26: worker thread finished; awaiting finish of 1 more threads\n",
      "INFO - 16:19:26: worker thread finished; awaiting finish of 0 more threads\n",
      "INFO - 16:19:26: EPOCH - 26 : training on 526714 raw words (201182 effective words) took 2.6s, 78355 effective words/s\n",
      "INFO - 16:19:27: EPOCH 27 - PROGRESS: at 41.22% examples, 80802 words/s, in_qsize 0, out_qsize 0\n",
      "INFO - 16:19:28: EPOCH 27 - PROGRESS: at 79.90% examples, 77327 words/s, in_qsize 0, out_qsize 0\n",
      "INFO - 16:19:29: worker thread finished; awaiting finish of 10 more threads\n",
      "INFO - 16:19:29: worker thread finished; awaiting finish of 9 more threads\n",
      "INFO - 16:19:29: worker thread finished; awaiting finish of 8 more threads\n",
      "INFO - 16:19:29: worker thread finished; awaiting finish of 7 more threads\n",
      "INFO - 16:19:29: worker thread finished; awaiting finish of 6 more threads\n",
      "INFO - 16:19:29: worker thread finished; awaiting finish of 5 more threads\n",
      "INFO - 16:19:29: worker thread finished; awaiting finish of 4 more threads\n",
      "INFO - 16:19:29: worker thread finished; awaiting finish of 3 more threads\n",
      "INFO - 16:19:29: worker thread finished; awaiting finish of 2 more threads\n",
      "INFO - 16:19:29: worker thread finished; awaiting finish of 1 more threads\n",
      "INFO - 16:19:29: worker thread finished; awaiting finish of 0 more threads\n",
      "INFO - 16:19:29: EPOCH - 27 : training on 526714 raw words (200813 effective words) took 2.6s, 77232 effective words/s\n",
      "INFO - 16:19:30: EPOCH 28 - PROGRESS: at 37.16% examples, 72173 words/s, in_qsize 0, out_qsize 0\n",
      "INFO - 16:19:31: EPOCH 28 - PROGRESS: at 79.90% examples, 76329 words/s, in_qsize 0, out_qsize 0\n",
      "INFO - 16:19:31: worker thread finished; awaiting finish of 10 more threads\n",
      "INFO - 16:19:31: worker thread finished; awaiting finish of 9 more threads\n",
      "INFO - 16:19:31: worker thread finished; awaiting finish of 8 more threads\n",
      "INFO - 16:19:31: worker thread finished; awaiting finish of 7 more threads\n",
      "INFO - 16:19:31: worker thread finished; awaiting finish of 6 more threads\n",
      "INFO - 16:19:31: worker thread finished; awaiting finish of 5 more threads\n",
      "INFO - 16:19:31: worker thread finished; awaiting finish of 4 more threads\n",
      "INFO - 16:19:31: worker thread finished; awaiting finish of 3 more threads\n",
      "INFO - 16:19:31: worker thread finished; awaiting finish of 2 more threads\n",
      "INFO - 16:19:31: worker thread finished; awaiting finish of 1 more threads\n",
      "INFO - 16:19:31: worker thread finished; awaiting finish of 0 more threads\n",
      "INFO - 16:19:31: EPOCH - 28 : training on 526714 raw words (200738 effective words) took 2.6s, 75937 effective words/s\n",
      "INFO - 16:19:32: EPOCH 29 - PROGRESS: at 35.10% examples, 69848 words/s, in_qsize 0, out_qsize 0\n",
      "INFO - 16:19:33: EPOCH 29 - PROGRESS: at 74.26% examples, 72295 words/s, in_qsize 0, out_qsize 0\n",
      "INFO - 16:19:34: worker thread finished; awaiting finish of 10 more threads\n",
      "INFO - 16:19:34: worker thread finished; awaiting finish of 9 more threads\n",
      "INFO - 16:19:34: worker thread finished; awaiting finish of 8 more threads\n",
      "INFO - 16:19:34: worker thread finished; awaiting finish of 7 more threads\n",
      "INFO - 16:19:34: worker thread finished; awaiting finish of 6 more threads\n",
      "INFO - 16:19:34: worker thread finished; awaiting finish of 5 more threads\n",
      "INFO - 16:19:34: worker thread finished; awaiting finish of 4 more threads\n",
      "INFO - 16:19:34: worker thread finished; awaiting finish of 3 more threads\n",
      "INFO - 16:19:34: worker thread finished; awaiting finish of 2 more threads\n",
      "INFO - 16:19:34: worker thread finished; awaiting finish of 1 more threads\n",
      "INFO - 16:19:34: worker thread finished; awaiting finish of 0 more threads\n",
      "INFO - 16:19:34: EPOCH - 29 : training on 526714 raw words (200816 effective words) took 2.7s, 73777 effective words/s\n",
      "INFO - 16:19:35: EPOCH 30 - PROGRESS: at 39.10% examples, 78655 words/s, in_qsize 0, out_qsize 0\n",
      "INFO - 16:19:36: EPOCH 30 - PROGRESS: at 78.06% examples, 77499 words/s, in_qsize 0, out_qsize 0\n",
      "INFO - 16:19:37: worker thread finished; awaiting finish of 10 more threads\n",
      "INFO - 16:19:37: worker thread finished; awaiting finish of 9 more threads\n",
      "INFO - 16:19:37: worker thread finished; awaiting finish of 8 more threads\n",
      "INFO - 16:19:37: worker thread finished; awaiting finish of 7 more threads\n",
      "INFO - 16:19:37: worker thread finished; awaiting finish of 6 more threads\n",
      "INFO - 16:19:37: worker thread finished; awaiting finish of 5 more threads\n",
      "INFO - 16:19:37: worker thread finished; awaiting finish of 4 more threads\n",
      "INFO - 16:19:37: worker thread finished; awaiting finish of 3 more threads\n",
      "INFO - 16:19:37: worker thread finished; awaiting finish of 2 more threads\n",
      "INFO - 16:19:37: worker thread finished; awaiting finish of 1 more threads\n",
      "INFO - 16:19:37: worker thread finished; awaiting finish of 0 more threads\n",
      "INFO - 16:19:37: EPOCH - 30 : training on 526714 raw words (200664 effective words) took 2.6s, 78394 effective words/s\n",
      "INFO - 16:19:37: training on a 15801420 raw words (6027388 effective words) took 76.3s, 78967 effective words/s\n"
     ]
    },
    {
     "name": "stdout",
     "output_type": "stream",
     "text": [
      "Time to train the model: 1.27 mins\n"
     ]
    }
   ],
   "source": [
    "t = time()\n",
    "\n",
    "w2v_model.train(sentences, total_examples=w2v_model.corpus_count, epochs=30, report_delay=1)\n",
    "\n",
    "print('Time to train the model: {} mins'.format(round((time() - t) / 60, 2)))\n",
    "\n",
    "#w2v_model.save(\"test_model.w2v\", ignore=[])"
   ]
  },
  {
   "cell_type": "code",
   "execution_count": null,
   "metadata": {},
   "outputs": [],
   "source": [
    "w2v_model = Word2Vec.load(\"test_model.w2v\")"
   ]
  },
  {
   "cell_type": "code",
   "execution_count": 35,
   "metadata": {},
   "outputs": [
    {
     "name": "stderr",
     "output_type": "stream",
     "text": [
      "INFO - 18:46:55: precomputing L2-norms of word weight vectors\n"
     ]
    }
   ],
   "source": [
    "w2v_model.init_sims(replace=True)"
   ]
  },
  {
   "cell_type": "code",
   "execution_count": 12,
   "metadata": {},
   "outputs": [
    {
     "data": {
      "text/plain": [
       "[('marge', 0.7590745687484741),\n",
       " ('worry', 0.738866925239563),\n",
       " ('convince', 0.738680362701416),\n",
       " ('creepy', 0.7361273765563965),\n",
       " ('rude', 0.7276503443717957),\n",
       " ('gee', 0.7274417877197266),\n",
       " ('ralphie', 0.726743221282959),\n",
       " ('chore', 0.7243647575378418),\n",
       " ('god_sake', 0.7231760025024414),\n",
       " ('snuggle', 0.7201460599899292),\n",
       " ('asleep', 0.7189117670059204),\n",
       " ('embarrassing', 0.7168461084365845),\n",
       " ('crummy', 0.7163548469543457),\n",
       " ('hammock', 0.7126702070236206),\n",
       " ('talk', 0.7114170789718628)]"
      ]
     },
     "execution_count": 12,
     "metadata": {},
     "output_type": "execute_result"
    }
   ],
   "source": [
    "w2v_model.wv.most_similar(positive=[\"homer\"], topn=15)"
   ]
  },
  {
   "cell_type": "code",
   "execution_count": 19,
   "metadata": {},
   "outputs": [
    {
     "data": {
      "text/plain": [
       "[('homer', 0.7590745687484741),\n",
       " ('snuggle', 0.7550023794174194),\n",
       " ('rapture', 0.7539874315261841),\n",
       " ('brunch', 0.7461404800415039),\n",
       " ('homie', 0.7391209602355957),\n",
       " ('sweetheart', 0.7368350625038147),\n",
       " ('ohh', 0.7354586720466614),\n",
       " ('raccoon', 0.7350224256515503),\n",
       " ('glad', 0.7341887950897217),\n",
       " ('creepy', 0.7307769060134888)]"
      ]
     },
     "execution_count": 19,
     "metadata": {},
     "output_type": "execute_result"
    }
   ],
   "source": [
    "w2v_model.wv.most_similar(positive=[\"marge\"])"
   ]
  },
  {
   "cell_type": "code",
   "execution_count": 29,
   "metadata": {},
   "outputs": [
    {
     "data": {
      "text/plain": [
       "0.7178596"
      ]
     },
     "execution_count": 29,
     "metadata": {},
     "output_type": "execute_result"
    }
   ],
   "source": [
    "w2v_model.wv.similarity('maggie', 'baby')"
   ]
  },
  {
   "cell_type": "code",
   "execution_count": 30,
   "metadata": {},
   "outputs": [
    {
     "data": {
      "text/plain": [
       "0.41893536"
      ]
     },
     "execution_count": 30,
     "metadata": {},
     "output_type": "execute_result"
    }
   ],
   "source": [
    "w2v_model.wv.similarity('bart', 'baby')"
   ]
  },
  {
   "cell_type": "code",
   "execution_count": 26,
   "metadata": {},
   "outputs": [
    {
     "name": "stderr",
     "output_type": "stream",
     "text": [
      "WARNING - 16:22:55: vectors for words {'kearney'} are not present in the model, ignoring these words\n"
     ]
    },
    {
     "data": {
      "text/plain": [
       "'milhouse'"
      ]
     },
     "execution_count": 26,
     "metadata": {},
     "output_type": "execute_result"
    }
   ],
   "source": [
    "w2v_model.wv.doesnt_match(['jimbo', 'milhouse', 'kearney'])"
   ]
  },
  {
   "cell_type": "code",
   "execution_count": 24,
   "metadata": {},
   "outputs": [
    {
     "data": {
      "text/plain": [
       "'nelson'"
      ]
     },
     "execution_count": 24,
     "metadata": {},
     "output_type": "execute_result"
    }
   ],
   "source": [
    "w2v_model.wv.doesnt_match([\"nelson\", \"bart\", \"milhouse\"])"
   ]
  },
  {
   "cell_type": "code",
   "execution_count": 27,
   "metadata": {},
   "outputs": [
    {
     "data": {
      "text/plain": [
       "[('married', 0.6815634965896606),\n",
       " ('admire', 0.6345378160476685),\n",
       " ('attract', 0.6280614733695984)]"
      ]
     },
     "execution_count": 27,
     "metadata": {},
     "output_type": "execute_result"
    }
   ],
   "source": [
    "w2v_model.wv.most_similar(positive=[\"woman\", \"homer\"], negative=[\"marge\"], topn=3)"
   ]
  },
  {
   "cell_type": "code",
   "execution_count": 28,
   "metadata": {},
   "outputs": [
    {
     "data": {
      "text/plain": [
       "[('lisa', 0.7096426486968994),\n",
       " ('pregnant', 0.6883337497711182),\n",
       " ('surprised', 0.6635551452636719)]"
      ]
     },
     "execution_count": 28,
     "metadata": {},
     "output_type": "execute_result"
    }
   ],
   "source": [
    "w2v_model.wv.most_similar(positive=[\"woman\", \"bart\"], negative=[\"man\"], topn=3)"
   ]
  }
 ],
 "metadata": {
  "kernelspec": {
   "display_name": "Python 3",
   "language": "python",
   "name": "python3"
  },
  "language_info": {
   "codemirror_mode": {
    "name": "ipython",
    "version": 3
   },
   "file_extension": ".py",
   "mimetype": "text/x-python",
   "name": "python",
   "nbconvert_exporter": "python",
   "pygments_lexer": "ipython3",
   "version": "3.7.4"
  }
 },
 "nbformat": 4,
 "nbformat_minor": 4
}
