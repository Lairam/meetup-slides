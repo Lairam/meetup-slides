{
 "cells": [
  {
   "cell_type": "code",
   "execution_count": 1,
   "metadata": {},
   "outputs": [
    {
     "name": "stderr",
     "output_type": "stream",
     "text": [
      "Using TensorFlow backend.\n"
     ]
    }
   ],
   "source": [
    "import pandas as pd\n",
    "import numpy as np\n",
    "import re\n",
    "import nltk\n",
    "from nltk.corpus import stopwords\n",
    "\n",
    "from numpy import array\n",
    "from keras.preprocessing.text import one_hot\n",
    "from keras.preprocessing.sequence import pad_sequences\n",
    "from keras.models import Sequential\n",
    "from keras.layers.core import Activation, Dropout, Dense\n",
    "from keras.layers import Flatten\n",
    "from keras.layers import LSTM\n",
    "from keras.layers import GlobalMaxPooling1D\n",
    "from keras.layers.embeddings import Embedding\n",
    "from sklearn.model_selection import train_test_split\n",
    "from keras.preprocessing.text import Tokenizer"
   ]
  },
  {
   "cell_type": "markdown",
   "metadata": {},
   "source": [
    "## Get the data"
   ]
  },
  {
   "cell_type": "code",
   "execution_count": 2,
   "metadata": {},
   "outputs": [
    {
     "data": {
      "text/plain": [
       "(50000, 2)"
      ]
     },
     "execution_count": 2,
     "metadata": {},
     "output_type": "execute_result"
    }
   ],
   "source": [
    "movie_reviews = pd.read_csv(\"C:\\work\\datasets\\IMDBDataset.csv\")\n",
    "\n",
    "movie_reviews.isnull().values.any()\n",
    "\n",
    "movie_reviews.shape"
   ]
  },
  {
   "cell_type": "code",
   "execution_count": 3,
   "metadata": {},
   "outputs": [
    {
     "data": {
      "text/html": [
       "<div>\n",
       "<style scoped>\n",
       "    .dataframe tbody tr th:only-of-type {\n",
       "        vertical-align: middle;\n",
       "    }\n",
       "\n",
       "    .dataframe tbody tr th {\n",
       "        vertical-align: top;\n",
       "    }\n",
       "\n",
       "    .dataframe thead th {\n",
       "        text-align: right;\n",
       "    }\n",
       "</style>\n",
       "<table border=\"1\" class=\"dataframe\">\n",
       "  <thead>\n",
       "    <tr style=\"text-align: right;\">\n",
       "      <th></th>\n",
       "      <th>review</th>\n",
       "      <th>sentiment</th>\n",
       "    </tr>\n",
       "  </thead>\n",
       "  <tbody>\n",
       "    <tr>\n",
       "      <th>0</th>\n",
       "      <td>One of the other reviewers has mentioned that ...</td>\n",
       "      <td>positive</td>\n",
       "    </tr>\n",
       "    <tr>\n",
       "      <th>1</th>\n",
       "      <td>A wonderful little production. &lt;br /&gt;&lt;br /&gt;The...</td>\n",
       "      <td>positive</td>\n",
       "    </tr>\n",
       "    <tr>\n",
       "      <th>2</th>\n",
       "      <td>I thought this was a wonderful way to spend ti...</td>\n",
       "      <td>positive</td>\n",
       "    </tr>\n",
       "    <tr>\n",
       "      <th>3</th>\n",
       "      <td>Basically there's a family where a little boy ...</td>\n",
       "      <td>negative</td>\n",
       "    </tr>\n",
       "    <tr>\n",
       "      <th>4</th>\n",
       "      <td>Petter Mattei's \"Love in the Time of Money\" is...</td>\n",
       "      <td>positive</td>\n",
       "    </tr>\n",
       "  </tbody>\n",
       "</table>\n",
       "</div>"
      ],
      "text/plain": [
       "                                              review sentiment\n",
       "0  One of the other reviewers has mentioned that ...  positive\n",
       "1  A wonderful little production. <br /><br />The...  positive\n",
       "2  I thought this was a wonderful way to spend ti...  positive\n",
       "3  Basically there's a family where a little boy ...  negative\n",
       "4  Petter Mattei's \"Love in the Time of Money\" is...  positive"
      ]
     },
     "execution_count": 3,
     "metadata": {},
     "output_type": "execute_result"
    }
   ],
   "source": [
    "movie_reviews.head()"
   ]
  },
  {
   "cell_type": "code",
   "execution_count": 4,
   "metadata": {},
   "outputs": [
    {
     "data": {
      "text/plain": [
       "<matplotlib.axes._subplots.AxesSubplot at 0x27bc0fa0240>"
      ]
     },
     "execution_count": 4,
     "metadata": {},
     "output_type": "execute_result"
    }
   ],
   "source": [
    "import seaborn as sns\n",
    "\n",
    "sns.countplot(x='sentiment', data=movie_reviews)\n"
   ]
  },
  {
   "cell_type": "code",
   "execution_count": 5,
   "metadata": {},
   "outputs": [
    {
     "data": {
      "text/plain": [
       "\"Basically there's a family where a little boy (Jake) thinks there's a zombie in his closet & his parents are fighting all the time.<br /><br />This movie is slower than a soap opera... and suddenly, Jake decides to become Rambo and kill the zombie.<br /><br />OK, first of all when you're going to make a film you must Decide if its a thriller or a drama! As a drama the movie is watchable. Parents are divorcing & arguing like in real life. And then we have Jake with his closet which totally ruins all the film! I expected to see a BOOGEYMAN similar movie, and instead i watched a drama with some meaningless thriller spots.<br /><br />3 out of 10 just for the well playing parents & descent dialogs. As for the shots with Jake: just ignore them.\""
      ]
     },
     "execution_count": 5,
     "metadata": {},
     "output_type": "execute_result"
    }
   ],
   "source": [
    "\n",
    "movie_reviews[\"review\"][3]\n"
   ]
  },
  {
   "cell_type": "markdown",
   "metadata": {},
   "source": [
    "## Clean the data"
   ]
  },
  {
   "cell_type": "code",
   "execution_count": 6,
   "metadata": {},
   "outputs": [],
   "source": [
    "def preprocess_text(sen):\n",
    "    # Removing html tags\n",
    "    sentence = remove_tags(sen)\n",
    "\n",
    "    # Remove punctuations and numbers\n",
    "    sentence = re.sub('[^a-zA-Z]', ' ', sentence)\n",
    "\n",
    "    # Single character removal\n",
    "    sentence = re.sub(r\"\\s+[a-zA-Z]\\s+\", ' ', sentence)\n",
    "\n",
    "    # Removing multiple spaces\n",
    "    sentence = re.sub(r'\\s+', ' ', sentence)\n",
    "\n",
    "    return sentence\n",
    "\n",
    "TAG_RE = re.compile(r'<[^>]+>')\n",
    "\n",
    "def remove_tags(text):\n",
    "    return TAG_RE.sub('', text)\n",
    "\n",
    "X = []\n",
    "sentences = list(movie_reviews['review'])\n",
    "for sen in sentences:\n",
    "    X.append(preprocess_text(sen))\n",
    "    \n",
    "    "
   ]
  },
  {
   "cell_type": "code",
   "execution_count": 7,
   "metadata": {},
   "outputs": [
    {
     "data": {
      "text/plain": [
       "'Basically there a family where little boy Jake thinks there a zombie in his closet his parents are fighting all the time This movie is slower than soap opera and suddenly Jake decides to become Rambo and kill the zombie OK first of all when you re going to make film you must Decide if its thriller or drama As drama the movie is watchable Parents are divorcing arguing like in real life And then we have Jake with his closet which totally ruins all the film expected to see BOOGEYMAN similar movie and instead watched drama with some meaningless thriller spots out of just for the well playing parents descent dialogs As for the shots with Jake just ignore them '"
      ]
     },
     "execution_count": 7,
     "metadata": {},
     "output_type": "execute_result"
    }
   ],
   "source": [
    "X[3]"
   ]
  },
  {
   "cell_type": "code",
   "execution_count": 8,
   "metadata": {},
   "outputs": [],
   "source": [
    "y = movie_reviews['sentiment']\n",
    "\n",
    "y = np.array(list(map(lambda x: 1 if x==\"positive\" else 0, y)))"
   ]
  },
  {
   "cell_type": "code",
   "execution_count": 9,
   "metadata": {},
   "outputs": [],
   "source": [
    "# Split into train and test set\n",
    "X_train, X_test, y_train, y_test = train_test_split(X, y, test_size=0.20, random_state=42)"
   ]
  },
  {
   "cell_type": "code",
   "execution_count": 10,
   "metadata": {
    "scrolled": true
   },
   "outputs": [
    {
     "data": {
      "text/plain": [
       "'I did not watch the entire movie could not watch the entire movie stopped the DVD after watching for half an hour and suggest anyone thinking of watching themselves it stop themselves before taking the disc out of the case like Mafia movies both tragic and comic but Corky Romano can only be described as tragic attempt at mafia comedy The problem is Corky Romano simply tries too hard to get the audience to laugh the plot seems to be an excuse for moving Chris Kattan Corky from one scene to another Corky himself is completely overplayed and lacks subtlety or credulity all his strange mannerisms come across as contrived Chris Kattan is clearly acting rather than taking role it bounces you right out of the story Each scene is utterly predictable the comedic event that will occur on the set is obvious as soon as each scene is introduced In comedies such as Mr Bean the disasters caused by the title character are funny because you can empathise with the characters motivations and initial event and the situation the character ends up in is not telegraphed Corky however gives the feeling that he is deliberately screwing up in desperate attempt to draw laugh from the audience If Chris had not played such an alien character who never really connects with the other characters in the movie and whose behaviour is entirely inexplicable except for trying to draw laughs and the comedy scenes weren so predictable and stereotyped all the jokes seemed far too familiar this movie could have been watchable But it isn Don watch it '"
      ]
     },
     "execution_count": 10,
     "metadata": {},
     "output_type": "execute_result"
    }
   ],
   "source": [
    "X_train[1]"
   ]
  },
  {
   "cell_type": "code",
   "execution_count": 11,
   "metadata": {},
   "outputs": [
    {
     "data": {
      "text/plain": [
       "0"
      ]
     },
     "execution_count": 11,
     "metadata": {},
     "output_type": "execute_result"
    }
   ],
   "source": [
    "y_train[1]"
   ]
  },
  {
   "cell_type": "markdown",
   "metadata": {},
   "source": [
    "## Data representation "
   ]
  },
  {
   "cell_type": "code",
   "execution_count": 12,
   "metadata": {},
   "outputs": [],
   "source": [
    "# Convert the text to a list of integer values corresponding to the word index\n",
    "tokenizer = Tokenizer(num_words=5000)\n",
    "tokenizer.fit_on_texts(X_train)\n",
    "\n",
    "X_train = tokenizer.texts_to_sequences(X_train)\n",
    "X_test = tokenizer.texts_to_sequences(X_test)\n"
   ]
  },
  {
   "cell_type": "code",
   "execution_count": 13,
   "metadata": {},
   "outputs": [
    {
     "data": {
      "text/plain": [
       "[124,\n",
       " 113,\n",
       " 19,\n",
       " 99,\n",
       " 1,\n",
       " 435,\n",
       " 12,\n",
       " 91,\n",
       " 19,\n",
       " 99,\n",
       " 1,\n",
       " 435,\n",
       " 12,\n",
       " 2254,\n",
       " 1,\n",
       " 257,\n",
       " 96,\n",
       " 145,\n",
       " 13,\n",
       " 300,\n",
       " 30,\n",
       " 517,\n",
       " 2,\n",
       " 1427,\n",
       " 242,\n",
       " 527,\n",
       " 3,\n",
       " 145,\n",
       " 511,\n",
       " 6,\n",
       " 529,\n",
       " 511,\n",
       " 159,\n",
       " 631,\n",
       " 1,\n",
       " 3594,\n",
       " 39,\n",
       " 3,\n",
       " 1,\n",
       " 407,\n",
       " 34,\n",
       " 3889,\n",
       " 93,\n",
       " 193,\n",
       " 1616,\n",
       " 2,\n",
       " 739,\n",
       " 15,\n",
       " 46,\n",
       " 59,\n",
       " 25,\n",
       " 2081,\n",
       " 11,\n",
       " 1616,\n",
       " 585,\n",
       " 27,\n",
       " 3889,\n",
       " 204,\n",
       " 1,\n",
       " 438,\n",
       " 5,\n",
       " 330,\n",
       " 498,\n",
       " 94,\n",
       " 243,\n",
       " 4,\n",
       " 72,\n",
       " 1,\n",
       " 296,\n",
       " 4,\n",
       " 417,\n",
       " 1,\n",
       " 106,\n",
       " 183,\n",
       " 4,\n",
       " 25,\n",
       " 30,\n",
       " 1350,\n",
       " 13,\n",
       " 695,\n",
       " 1264,\n",
       " 33,\n",
       " 24,\n",
       " 126,\n",
       " 4,\n",
       " 157,\n",
       " 306,\n",
       " 5,\n",
       " 332,\n",
       " 2,\n",
       " 1477,\n",
       " 4085,\n",
       " 36,\n",
       " 26,\n",
       " 22,\n",
       " 658,\n",
       " 210,\n",
       " 608,\n",
       " 11,\n",
       " 2057,\n",
       " 1264,\n",
       " 5,\n",
       " 687,\n",
       " 110,\n",
       " 246,\n",
       " 68,\n",
       " 631,\n",
       " 214,\n",
       " 6,\n",
       " 17,\n",
       " 200,\n",
       " 39,\n",
       " 3,\n",
       " 1,\n",
       " 58,\n",
       " 249,\n",
       " 126,\n",
       " 5,\n",
       " 1280,\n",
       " 700,\n",
       " 1,\n",
       " 1663,\n",
       " 1560,\n",
       " 9,\n",
       " 78,\n",
       " 3712,\n",
       " 18,\n",
       " 1,\n",
       " 262,\n",
       " 5,\n",
       " 570,\n",
       " 11,\n",
       " 521,\n",
       " 11,\n",
       " 249,\n",
       " 126,\n",
       " 5,\n",
       " 1683,\n",
       " 7,\n",
       " 1334,\n",
       " 137,\n",
       " 11,\n",
       " 436,\n",
       " 4613,\n",
       " 1,\n",
       " 2084,\n",
       " 29,\n",
       " 1,\n",
       " 412,\n",
       " 100,\n",
       " 20,\n",
       " 155,\n",
       " 81,\n",
       " 17,\n",
       " 46,\n",
       " 14,\n",
       " 1,\n",
       " 98,\n",
       " 4696,\n",
       " 2,\n",
       " 2508,\n",
       " 1560,\n",
       " 2,\n",
       " 1,\n",
       " 864,\n",
       " 1,\n",
       " 100,\n",
       " 639,\n",
       " 51,\n",
       " 7,\n",
       " 5,\n",
       " 19,\n",
       " 188,\n",
       " 403,\n",
       " 1,\n",
       " 546,\n",
       " 9,\n",
       " 21,\n",
       " 5,\n",
       " 4342,\n",
       " 51,\n",
       " 7,\n",
       " 1810,\n",
       " 585,\n",
       " 4,\n",
       " 2408,\n",
       " 417,\n",
       " 33,\n",
       " 1,\n",
       " 296,\n",
       " 41,\n",
       " 1264,\n",
       " 63,\n",
       " 19,\n",
       " 250,\n",
       " 137,\n",
       " 30,\n",
       " 1069,\n",
       " 100,\n",
       " 31,\n",
       " 107,\n",
       " 60,\n",
       " 14,\n",
       " 1,\n",
       " 76,\n",
       " 98,\n",
       " 7,\n",
       " 1,\n",
       " 12,\n",
       " 2,\n",
       " 628,\n",
       " 4808,\n",
       " 5,\n",
       " 1082,\n",
       " 541,\n",
       " 13,\n",
       " 259,\n",
       " 4,\n",
       " 2408,\n",
       " 897,\n",
       " 2,\n",
       " 1,\n",
       " 204,\n",
       " 132,\n",
       " 1181,\n",
       " 32,\n",
       " 700,\n",
       " 2,\n",
       " 26,\n",
       " 1,\n",
       " 603,\n",
       " 455,\n",
       " 220,\n",
       " 94,\n",
       " 1052,\n",
       " 8,\n",
       " 12,\n",
       " 91,\n",
       " 23,\n",
       " 71,\n",
       " 1681,\n",
       " 15,\n",
       " 6,\n",
       " 211,\n",
       " 82,\n",
       " 99,\n",
       " 6]"
      ]
     },
     "execution_count": 13,
     "metadata": {},
     "output_type": "execute_result"
    }
   ],
   "source": [
    "X_train[1]\n"
   ]
  },
  {
   "cell_type": "code",
   "execution_count": 14,
   "metadata": {},
   "outputs": [
    {
     "data": {
      "text/plain": [
       "(40000, 100)"
      ]
     },
     "execution_count": 14,
     "metadata": {},
     "output_type": "execute_result"
    }
   ],
   "source": [
    "# Adding 1 because of reserved 0 index\n",
    "vocab_size = len(tokenizer.word_index) + 1\n",
    "\n",
    "maxlen = 100\n",
    "\n",
    "X_train = pad_sequences(X_train, padding='post', maxlen=maxlen)\n",
    "X_test = pad_sequences(X_test, padding='post', maxlen=maxlen)\n",
    "\n",
    "X_train.shape"
   ]
  },
  {
   "cell_type": "markdown",
   "metadata": {},
   "source": [
    "### Generate word embeddings using GloVe"
   ]
  },
  {
   "cell_type": "code",
   "execution_count": 15,
   "metadata": {},
   "outputs": [
    {
     "data": {
      "text/plain": [
       "array([-0.38264  , -0.089682 ,  0.024723 , -0.75717  , -0.47556  ,\n",
       "        0.61837  , -0.48873  ,  0.61044  , -0.31818  , -0.63448  ,\n",
       "        0.29585  , -0.016296 ,  0.26651  , -0.57651  ,  0.037018 ,\n",
       "        0.27653  ,  0.3202   ,  0.34668  , -0.14257  ,  0.079186 ,\n",
       "       -0.027993 ,  0.1436   ,  0.32445  , -0.34822  ,  0.57161  ,\n",
       "        0.2056   ,  0.0052677, -0.0092796,  0.7061   ,  0.19237  ,\n",
       "        0.17404  , -0.014847 ,  0.096184 ,  0.75065  ,  0.38236  ,\n",
       "        0.11718  , -0.4454   , -0.018317 ,  0.67536  , -0.60288  ,\n",
       "       -0.30405  ,  0.023487 , -0.36481  , -0.37409  , -0.31277  ,\n",
       "       -0.028718 , -0.12319  , -0.28882  , -0.18277  , -1.2734   ,\n",
       "        0.43808  , -0.058079 , -0.11516  ,  0.73796  ,  0.099975 ,\n",
       "       -2.0191   , -0.10777  ,  0.20513  ,  1.5224   ,  0.16566  ,\n",
       "       -0.40803  ,  1.171    , -0.015485 , -0.62267  ,  0.29923  ,\n",
       "        0.51416  , -0.042769 ,  0.6814   ,  0.12516  ,  0.48709  ,\n",
       "        0.27994  , -0.45281  ,  0.38514  , -0.16599  ,  0.029629 ,\n",
       "        0.10676  ,  0.15784  ,  0.16597  ,  0.1163   , -0.1154   ,\n",
       "        0.71826  , -0.083241 , -0.15124  ,  0.30054  , -1.1409   ,\n",
       "       -0.59024  , -0.50591  , -0.026484 ,  0.35409  , -0.11742  ,\n",
       "        0.62724  , -0.29372  ,  0.41494  , -0.914    , -0.3828   ,\n",
       "        0.046055 ,  0.024563 ,  0.16366  ,  0.43887  ,  0.28925  ],\n",
       "      dtype=float32)"
      ]
     },
     "execution_count": 15,
     "metadata": {},
     "output_type": "execute_result"
    }
   ],
   "source": [
    "from numpy import array\n",
    "from numpy import asarray\n",
    "from numpy import zeros\n",
    "\n",
    "# Generate word embeddings \n",
    "embeddings_dictionary = dict()\n",
    "glove_file = open('C:/work/datasets/glove.6B.100d.txt', encoding=\"utf8\")\n",
    "\n",
    "for line in glove_file:\n",
    "    records = line.split()\n",
    "    word = records[0]\n",
    "    vector_dimensions = asarray(records[1:], dtype='float32')\n",
    "    embeddings_dictionary [word] = vector_dimensions\n",
    "glove_file.close()\n",
    "\n",
    "embeddings_dictionary[\"watch\"]\n"
   ]
  },
  {
   "cell_type": "code",
   "execution_count": 16,
   "metadata": {},
   "outputs": [
    {
     "data": {
      "text/plain": [
       "array([-0.38264   , -0.089682  ,  0.024723  , -0.75717002, -0.47556001,\n",
       "        0.61837   , -0.48873001,  0.61044002, -0.31817999, -0.63448   ,\n",
       "        0.29585001, -0.016296  ,  0.26651001, -0.57651001,  0.037018  ,\n",
       "        0.27653   ,  0.3202    ,  0.34667999, -0.14257   ,  0.079186  ,\n",
       "       -0.027993  ,  0.1436    ,  0.32444999, -0.34821999,  0.57160997,\n",
       "        0.20559999,  0.0052677 , -0.0092796 ,  0.70609999,  0.19237   ,\n",
       "        0.17404   , -0.014847  ,  0.096184  ,  0.75064999,  0.38236001,\n",
       "        0.11718   , -0.4454    , -0.018317  ,  0.67536002, -0.60288   ,\n",
       "       -0.30405   ,  0.023487  , -0.36480999, -0.37408999, -0.31277001,\n",
       "       -0.028718  , -0.12319   , -0.28882   , -0.18277   , -1.27339995,\n",
       "        0.43808001, -0.058079  , -0.11516   ,  0.73795998,  0.099975  ,\n",
       "       -2.01909995, -0.10777   ,  0.20513   ,  1.52240002,  0.16565999,\n",
       "       -0.40803   ,  1.171     , -0.015485  , -0.62266999,  0.29923001,\n",
       "        0.51415998, -0.042769  ,  0.6814    ,  0.12515999,  0.48708999,\n",
       "        0.27994001, -0.45280999,  0.38514   , -0.16599   ,  0.029629  ,\n",
       "        0.10676   ,  0.15784   ,  0.16597   ,  0.1163    , -0.1154    ,\n",
       "        0.71825999, -0.083241  , -0.15124001,  0.30054   , -1.14090002,\n",
       "       -0.59024   , -0.50590998, -0.026484  ,  0.35409001, -0.11742   ,\n",
       "        0.62724   , -0.29372001,  0.41494   , -0.91399997, -0.38280001,\n",
       "        0.046055  ,  0.024563  ,  0.16366   ,  0.43887001,  0.28924999])"
      ]
     },
     "execution_count": 16,
     "metadata": {},
     "output_type": "execute_result"
    }
   ],
   "source": [
    "embedding_matrix = zeros((vocab_size, 100))\n",
    "for word, index in tokenizer.word_index.items():\n",
    "    embedding_vector = embeddings_dictionary.get(word)\n",
    "    if embedding_vector is not None:\n",
    "        embedding_matrix[index] = embedding_vector\n",
    "embedding_matrix[99]"
   ]
  },
  {
   "cell_type": "code",
   "execution_count": 17,
   "metadata": {},
   "outputs": [
    {
     "data": {
      "text/plain": [
       "(92547, 100)"
      ]
     },
     "execution_count": 17,
     "metadata": {},
     "output_type": "execute_result"
    }
   ],
   "source": [
    "embedding_matrix.shape"
   ]
  },
  {
   "cell_type": "code",
   "execution_count": 18,
   "metadata": {},
   "outputs": [
    {
     "data": {
      "text/plain": [
       "92547"
      ]
     },
     "execution_count": 18,
     "metadata": {},
     "output_type": "execute_result"
    }
   ],
   "source": [
    "vocab_size"
   ]
  },
  {
   "cell_type": "markdown",
   "metadata": {},
   "source": [
    "## Machine Learning Model"
   ]
  },
  {
   "cell_type": "code",
   "execution_count": 19,
   "metadata": {},
   "outputs": [
    {
     "name": "stderr",
     "output_type": "stream",
     "text": [
      "WARNING: Logging before flag parsing goes to stderr.\n",
      "W0822 16:24:50.536303  1524 deprecation_wrapper.py:119] From C:\\Users\\acaho\\Anaconda3\\lib\\site-packages\\keras\\backend\\tensorflow_backend.py:74: The name tf.get_default_graph is deprecated. Please use tf.compat.v1.get_default_graph instead.\n",
      "\n",
      "W0822 16:24:50.590263  1524 deprecation_wrapper.py:119] From C:\\Users\\acaho\\Anaconda3\\lib\\site-packages\\keras\\backend\\tensorflow_backend.py:517: The name tf.placeholder is deprecated. Please use tf.compat.v1.placeholder instead.\n",
      "\n",
      "W0822 16:24:50.596263  1524 deprecation_wrapper.py:119] From C:\\Users\\acaho\\Anaconda3\\lib\\site-packages\\keras\\backend\\tensorflow_backend.py:4138: The name tf.random_uniform is deprecated. Please use tf.random.uniform instead.\n",
      "\n",
      "W0822 16:24:50.614253  1524 deprecation_wrapper.py:119] From C:\\Users\\acaho\\Anaconda3\\lib\\site-packages\\keras\\backend\\tensorflow_backend.py:174: The name tf.get_default_session is deprecated. Please use tf.compat.v1.get_default_session instead.\n",
      "\n",
      "W0822 16:24:50.616247  1524 deprecation_wrapper.py:119] From C:\\Users\\acaho\\Anaconda3\\lib\\site-packages\\keras\\backend\\tensorflow_backend.py:181: The name tf.ConfigProto is deprecated. Please use tf.compat.v1.ConfigProto instead.\n",
      "\n",
      "W0822 16:24:51.230873  1524 deprecation_wrapper.py:119] From C:\\Users\\acaho\\Anaconda3\\lib\\site-packages\\keras\\optimizers.py:790: The name tf.train.Optimizer is deprecated. Please use tf.compat.v1.train.Optimizer instead.\n",
      "\n",
      "W0822 16:24:51.286841  1524 deprecation.py:323] From C:\\Users\\acaho\\Anaconda3\\lib\\site-packages\\tensorflow\\python\\ops\\nn_impl.py:180: add_dispatch_support.<locals>.wrapper (from tensorflow.python.ops.array_ops) is deprecated and will be removed in a future version.\n",
      "Instructions for updating:\n",
      "Use tf.where in 2.0, which has the same broadcast rule as np.where\n"
     ]
    },
    {
     "name": "stdout",
     "output_type": "stream",
     "text": [
      "_________________________________________________________________\n",
      "Layer (type)                 Output Shape              Param #   \n",
      "=================================================================\n",
      "embedding_1 (Embedding)      (None, 100, 100)          9254700   \n",
      "_________________________________________________________________\n",
      "lstm_1 (LSTM)                (None, 128)               117248    \n",
      "_________________________________________________________________\n",
      "dense_1 (Dense)              (None, 1)                 129       \n",
      "=================================================================\n",
      "Total params: 9,372,077\n",
      "Trainable params: 117,377\n",
      "Non-trainable params: 9,254,700\n",
      "_________________________________________________________________\n",
      "None\n"
     ]
    }
   ],
   "source": [
    "\n",
    "model = Sequential()\n",
    "embedding_layer = Embedding(vocab_size, 100, weights=[embedding_matrix], input_length=maxlen , trainable=False)\n",
    "model.add(embedding_layer)\n",
    "model.add(LSTM(128))\n",
    "\n",
    "model.add(Dense(1, activation='sigmoid'))\n",
    "model.compile(optimizer='adam', loss='binary_crossentropy', metrics=['acc'])\n",
    "\n",
    "print(model.summary())"
   ]
  },
  {
   "cell_type": "markdown",
   "metadata": {},
   "source": [
    "## Inspection. Evaluate the model"
   ]
  },
  {
   "cell_type": "code",
   "execution_count": 20,
   "metadata": {},
   "outputs": [
    {
     "name": "stdout",
     "output_type": "stream",
     "text": [
      "Train on 32000 samples, validate on 8000 samples\n",
      "Epoch 1/6\n",
      "32000/32000 [==============================] - 124s 4ms/step - loss: 0.5749 - acc: 0.6908 - val_loss: 0.4833 - val_acc: 0.7796\n",
      "Epoch 2/6\n",
      "32000/32000 [==============================] - 121s 4ms/step - loss: 0.4536 - acc: 0.7890 - val_loss: 0.4205 - val_acc: 0.8101\n",
      "Epoch 3/6\n",
      "32000/32000 [==============================] - 116s 4ms/step - loss: 0.4051 - acc: 0.8166 - val_loss: 0.3816 - val_acc: 0.8296\n",
      "Epoch 4/6\n",
      "32000/32000 [==============================] - 125s 4ms/step - loss: 0.3774 - acc: 0.8307 - val_loss: 0.3632 - val_acc: 0.8370\n",
      "Epoch 5/6\n",
      "32000/32000 [==============================] - 112s 3ms/step - loss: 0.3526 - acc: 0.8430 - val_loss: 0.3494 - val_acc: 0.8429\n",
      "Epoch 6/6\n",
      "32000/32000 [==============================] - 113s 4ms/step - loss: 0.3288 - acc: 0.8568 - val_loss: 0.3444 - val_acc: 0.8489\n",
      "10000/10000 [==============================] - 13s 1ms/step\n"
     ]
    }
   ],
   "source": [
    "history = model.fit(X_train, y_train, batch_size=128, epochs=6, verbose=1, validation_split=0.2)\n",
    "\n",
    "score = model.evaluate(X_test, y_test, verbose=1)"
   ]
  },
  {
   "cell_type": "code",
   "execution_count": 21,
   "metadata": {},
   "outputs": [
    {
     "name": "stdout",
     "output_type": "stream",
     "text": [
      "Test Accuracy: 0.8471\n"
     ]
    }
   ],
   "source": [
    "print(\"Test Accuracy:\", score[1])"
   ]
  },
  {
   "cell_type": "markdown",
   "metadata": {},
   "source": [
    "### Plot the loss and the accuracy for training and test sets. Check for overfitting\n"
   ]
  },
  {
   "cell_type": "code",
   "execution_count": 22,
   "metadata": {},
   "outputs": [
    {
     "data": {
      "image/png": "[encoded data removed]",
      "text/plain": [
       "<Figure size 432x288 with 1 Axes>"
      ]
     },
     "metadata": {
      "needs_background": "light"
     },
     "output_type": "display_data"
    },
    {
     "data": {
      "image/png": "[encoded data removed]",
      "text/plain": [
       "<Figure size 432x288 with 1 Axes>"
      ]
     },
     "metadata": {
      "needs_background": "light"
     },
     "output_type": "display_data"
    }
   ],
   "source": [
    "import matplotlib.pyplot as plt\n",
    "\n",
    "plt.plot(history.history['acc'])\n",
    "plt.plot(history.history['val_acc'])\n",
    "\n",
    "plt.title('model accuracy')\n",
    "plt.ylabel('accuracy')\n",
    "plt.xlabel('epoch')\n",
    "plt.legend(['train','test'], loc='upper left')\n",
    "plt.show()\n",
    "\n",
    "plt.plot(history.history['loss'])\n",
    "plt.plot(history.history['val_loss'])\n",
    "\n",
    "plt.title('model loss')\n",
    "plt.ylabel('loss')\n",
    "plt.xlabel('epoch')\n",
    "plt.legend(['train','test'], loc='upper left')\n",
    "plt.show()"
   ]
  },
  {
   "cell_type": "markdown",
   "metadata": {},
   "source": [
    "### Make predictions. Follow the same transformations"
   ]
  },
  {
   "cell_type": "code",
   "execution_count": 28,
   "metadata": {},
   "outputs": [
    {
     "name": "stdout",
     "output_type": "stream",
     "text": [
      "[[4057  128  767  128  147  128  124 2189 2798 4538  128  124  124 2189\n",
      "  4057  128  767 3168 1674 4538 2798 3940 4538 3940 2189  128  441  124\n",
      "  4057  128  767 3940 2798 2798 4538 3940 4057  124 2798 3940 2798 1674\n",
      "  4962 3940  767  124 2798  124 3940 2798  124  124 4057  128  767 4538\n",
      "  1674  128  441  128  441 3168  128 2965 1674  147 1674 2798 3940 4962\n",
      "  4962 3940 4538 2798  124 2798  124 1674  767 4057 1674 4538 1674  128\n",
      "  3168  128  124  128 1957 1674  128  441 1674 2965 3940 4538  128 2189\n",
      "  1674  441]]\n"
     ]
    }
   ],
   "source": [
    "#instance = X[100]\n",
    "some_text = \"great work life balance, supervisor was amazing. training was very thorough and I was not thrown into the position until i was 100% ready, advancement opportunities were available and encouraged\"\n",
    "X1 = some_text\n",
    "print(instance)"
   ]
  },
  {
   "cell_type": "code",
   "execution_count": 30,
   "metadata": {},
   "outputs": [],
   "source": [
    "# Do the same transformations as for the training set\n",
    "X1 = tokenizer.texts_to_sequences(X1)\n",
    "\n",
    "flat_list = []\n",
    "for sublist in X1:\n",
    "    for item in sublist:\n",
    "        flat_list.append(item)\n",
    "\n",
    "flat_list = [flat_list]\n",
    "\n",
    "X1 = pad_sequences(flat_list, padding='post', maxlen=maxlen)\n"
   ]
  },
  {
   "cell_type": "code",
   "execution_count": 31,
   "metadata": {},
   "outputs": [
    {
     "data": {
      "text/plain": [
       "array([[4057,  128,  767,  128,  147,  128,  124, 2189, 2798, 4538,  128,\n",
       "         124,  124, 2189, 4057,  128,  767, 3168, 1674, 4538, 2798, 3940,\n",
       "        4538, 3940, 2189,  128,  441,  124, 4057,  128,  767, 3940, 2798,\n",
       "        2798, 4538, 3940, 4057,  124, 2798, 3940, 2798, 1674, 4962, 3940,\n",
       "         767,  124, 2798,  124, 3940, 2798,  124,  124, 4057,  128,  767,\n",
       "        4538, 1674,  128,  441,  128,  441, 3168,  128, 2965, 1674,  147,\n",
       "        1674, 2798, 3940, 4962, 4962, 3940, 4538, 2798,  124, 2798,  124,\n",
       "        1674,  767, 4057, 1674, 4538, 1674,  128, 3168,  128,  124,  128,\n",
       "        1957, 1674,  128,  441, 1674, 2965, 3940, 4538,  128, 2189, 1674,\n",
       "         441]])"
      ]
     },
     "execution_count": 31,
     "metadata": {},
     "output_type": "execute_result"
    }
   ],
   "source": [
    "X1"
   ]
  },
  {
   "cell_type": "code",
   "execution_count": 32,
   "metadata": {},
   "outputs": [
    {
     "name": "stdout",
     "output_type": "stream",
     "text": [
      "positive\n"
     ]
    }
   ],
   "source": [
    "prediction = model.predict(X1)\n",
    "if (prediction[0] > 0.5) :\n",
    "    print(\"positive\")"
   ]
  }
 ],
 "metadata": {
  "kernelspec": {
   "display_name": "Python 3",
   "language": "python",
   "name": "python3"
  },
  "language_info": {
   "codemirror_mode": {
    "name": "ipython",
    "version": 3
   },
   "file_extension": ".py",
   "mimetype": "text/x-python",
   "name": "python",
   "nbconvert_exporter": "python",
   "pygments_lexer": "ipython3",
   "version": "3.6.7"
  }
 },
 "nbformat": 4,
 "nbformat_minor": 2
}
