{
 "cells": [
  {
   "cell_type": "markdown",
   "metadata": {},
   "source": [
    "<img src=\"images/6.png\" width=\"900\">"
   ]
  },
  {
   "cell_type": "code",
   "execution_count": 2,
   "metadata": {},
   "outputs": [],
   "source": [
    "import networkx as nx\n",
    "import matplotlib.pyplot as plt\n",
    "from pprint import pprint"
   ]
  },
  {
   "cell_type": "markdown",
   "metadata": {},
   "source": [
    "### Read the dolphins network\n",
    "#### http://konect.uni-koblenz.de/networks/dolphins"
   ]
  },
  {
   "cell_type": "code",
   "execution_count": 3,
   "metadata": {},
   "outputs": [],
   "source": [
    "G = nx.read_edgelist(\"data/dolphins\")"
   ]
  },
  {
   "cell_type": "markdown",
   "metadata": {},
   "source": [
    "# General network stats"
   ]
  },
  {
   "cell_type": "code",
   "execution_count": 4,
   "metadata": {},
   "outputs": [
    {
     "name": "stdout",
     "output_type": "stream",
     "text": [
      "62 159\n"
     ]
    }
   ],
   "source": [
    "print(len(G.nodes()), len(G.edges()))"
   ]
  },
  {
   "cell_type": "code",
   "execution_count": 5,
   "metadata": {},
   "outputs": [
    {
     "data": {
      "text/plain": [
       "NodeView(('9', '4', '10', '6', '7', '11', '1', '3', '14', '15', '16', '17', '18', '2', '19', '20', '8', '21', '22', '23', '25', '26', '27', '28', '29', '30', '31', '32', '33', '34', '13', '35', '36', '37', '24', '38', '39', '40', '41', '42', '43', '44', '45', '46', '47', '48', '50', '51', '52', '5', '12', '53', '54', '55', '56', '57', '58', '49', '59', '60', '61', '62'))"
      ]
     },
     "execution_count": 5,
     "metadata": {},
     "output_type": "execute_result"
    }
   ],
   "source": [
    "G.nodes()"
   ]
  },
  {
   "cell_type": "markdown",
   "metadata": {},
   "source": [
    "# Understanding network topology"
   ]
  },
  {
   "cell_type": "code",
   "execution_count": 6,
   "metadata": {},
   "outputs": [
    {
     "name": "stdout",
     "output_type": "stream",
     "text": [
      "Is dolphin network connected: True\n",
      "Diameter or the longest shortest distance: 8\n",
      "Average shortest path: 3.3569539925965097\n",
      "Radius or the shortest largest distance: 5\n",
      "\n",
      "\n",
      "Dolphins found at the periphery of the network: 36, 47, 50, 5, 12, 54, 59, 61\n",
      "Dolphins found in the center of the network: 2, 20, 8, 28, 29, 31, 37, 40, 41, 55\n"
     ]
    }
   ],
   "source": [
    "print(\"Is dolphin network connected: {}\".format(nx.is_connected(G)))\n",
    "print(\"Diameter or the longest shortest distance: {}\".format(nx.diameter(G)))\n",
    "print(\"Average shortest path: {}\".format(nx.average_shortest_path_length(G)))\n",
    "\n",
    "print(\"Radius or the shortest largest distance: {}\\n\\n\".format(nx.radius(G)))\n",
    "print(\"Dolphins found at the periphery of the network: {}\".format(\", \".join(nx.periphery(G))))\n",
    "print(\"Dolphins found in the center of the network: {}\".format(\", \".join(nx.center(G))))"
   ]
  },
  {
   "cell_type": "markdown",
   "metadata": {},
   "source": [
    "### **Periphery** - Largest distance == diameter\n",
    "### **Center** - Largest distance == radius\n",
    "\n",
    "#### The center dolphins are most likely the ones that kept information flowing between two or more network communities."
   ]
  },
  {
   "cell_type": "markdown",
   "metadata": {},
   "source": [
    "# Local clustering coefficient"
   ]
  },
  {
   "cell_type": "markdown",
   "metadata": {},
   "source": [
    "<img src=\"images/10.png\" width=\"300\">\n",
    "\n",
    "### https://www.e-education.psu.edu/geog597i_02/node/832"
   ]
  },
  {
   "cell_type": "code",
   "execution_count": 65,
   "metadata": {
    "scrolled": true
   },
   "outputs": [
    {
     "name": "stdout",
     "output_type": "stream",
     "text": [
      "0.25895824605502027\n",
      "{'1': 0.3333333333333333,\n",
      " '10': 0.5238095238095238,\n",
      " '11': 0.4,\n",
      " '12': 0,\n",
      " '13': 0,\n",
      " '14': 0.5,\n",
      " '15': 0.25757575757575757,\n",
      " '16': 0.23809523809523808,\n",
      " '17': 0.6,\n",
      " '18': 0.2222222222222222,\n",
      " '19': 0.5238095238095238,\n",
      " '2': 0.14285714285714285,\n",
      " '20': 0.5,\n",
      " '21': 0.1388888888888889,\n",
      " '22': 0.5333333333333333,\n",
      " '23': 0,\n",
      " '24': 0.3333333333333333,\n",
      " '25': 0.5333333333333333,\n",
      " '26': 0.6666666666666666,\n",
      " '27': 0.6666666666666666,\n",
      " '28': 0.4,\n",
      " '29': 0.3,\n",
      " '3': 0.16666666666666666,\n",
      " '30': 0.25,\n",
      " '31': 0.3,\n",
      " '32': 0,\n",
      " '33': 0.3333333333333333,\n",
      " '34': 0.3333333333333333,\n",
      " '35': 0.3,\n",
      " '36': 0,\n",
      " '37': 0.047619047619047616,\n",
      " '38': 0.23636363636363636,\n",
      " '39': 0.2857142857142857,\n",
      " '4': 0.3333333333333333,\n",
      " '40': 0,\n",
      " '41': 0.25,\n",
      " '42': 0.6,\n",
      " '43': 0.3333333333333333,\n",
      " '44': 0.23809523809523808,\n",
      " '45': 0.16666666666666666,\n",
      " '46': 0.3090909090909091,\n",
      " '47': 0,\n",
      " '48': 0.4,\n",
      " '49': 0,\n",
      " '5': 0,\n",
      " '50': 0,\n",
      " '51': 0.23809523809523808,\n",
      " '52': 0.24444444444444444,\n",
      " '53': 0.3333333333333333,\n",
      " '54': 0,\n",
      " '55': 0.38095238095238093,\n",
      " '56': 0,\n",
      " '57': 0,\n",
      " '58': 0.3611111111111111,\n",
      " '59': 0,\n",
      " '6': 0.5,\n",
      " '60': 0.3,\n",
      " '61': 0,\n",
      " '62': 0,\n",
      " '7': 0.5333333333333333,\n",
      " '8': 0.2,\n",
      " '9': 0.26666666666666666}\n"
     ]
    }
   ],
   "source": [
    "print(nx.average_clustering(G))\n",
    "pprint(nx.clustering(G))"
   ]
  },
  {
   "cell_type": "markdown",
   "metadata": {},
   "source": [
    "# One lonely dolphin and his friend "
   ]
  },
  {
   "cell_type": "code",
   "execution_count": 60,
   "metadata": {},
   "outputs": [
    {
     "data": {
      "text/plain": [
       "['52']"
      ]
     },
     "execution_count": 60,
     "metadata": {},
     "output_type": "execute_result"
    }
   ],
   "source": [
    "list(G.neighbors('12'))"
   ]
  },
  {
   "cell_type": "markdown",
   "metadata": {},
   "source": [
    "# Omega score (Network type: Sparse, Small-word, Random)"
   ]
  },
  {
   "cell_type": "code",
   "execution_count": 75,
   "metadata": {},
   "outputs": [
    {
     "data": {
      "text/plain": [
       "0.1402171694312061"
      ]
     },
     "execution_count": 75,
     "metadata": {},
     "output_type": "execute_result"
    }
   ],
   "source": [
    "from networkx.algorithms import smallworld\n",
    "\n",
    "smallworld.omega(G, niter=100, nrand=1)"
   ]
  },
  {
   "cell_type": "markdown",
   "metadata": {},
   "source": [
    "# TRIADS - the open triangles problem\n",
    "\n",
    "<img src=\"images/9.png\" width=\"400\">\n",
    "\n",
    "#### https://harangdev.github.io/applied-data-science-with-python/applied-social-network-analysis-in-python/2/\n",
    "#### https://necromuralist.github.io/data_science/posts/triadic-closure/"
   ]
  },
  {
   "cell_type": "markdown",
   "metadata": {},
   "source": [
    "### Transitivity\n",
    "#### Percentage of “open triads” that are triangles in a network"
   ]
  },
  {
   "cell_type": "code",
   "execution_count": 127,
   "metadata": {},
   "outputs": [
    {
     "data": {
      "text/plain": [
       "0.3087757313109426"
      ]
     },
     "execution_count": 127,
     "metadata": {},
     "output_type": "execute_result"
    }
   ],
   "source": [
    "nx.transitivity(G)"
   ]
  },
  {
   "cell_type": "code",
   "execution_count": 36,
   "metadata": {},
   "outputs": [],
   "source": [
    "from itertools import combinations\n",
    " \n",
    "def is_in_triangle(G, n):\n",
    "    in_triangle = False\n",
    "    \n",
    "    # Iterate over all possible triangle relationship combinations\n",
    "    for n1, n2 in combinations(G.neighbors(n),2):\n",
    "    \n",
    "        # Check if an edge exists between n1 and n2\n",
    "        if G.has_edge(n1, n2):\n",
    "            in_triangle = True\n",
    "            break\n",
    "            \n",
    "    return in_triangle\n",
    "\n",
    "def get_open_triangles(G, n):\n",
    "    in_open_triangle = False\n",
    "    \n",
    "    open_triangles = list()\n",
    "    # Iterate over all possible triangle relationship combinations\n",
    "    for n1, n2 in combinations(G.neighbors(n),2):\n",
    "        if not G.has_edge(n1, n2):\n",
    "            open_triangles.append([n1, n2])\n",
    "    \n",
    "    return open_triangles"
   ]
  },
  {
   "cell_type": "code",
   "execution_count": 34,
   "metadata": {
    "scrolled": true
   },
   "outputs": [
    {
     "name": "stdout",
     "output_type": "stream",
     "text": [
      "Dolphin: 1 \n",
      "\tis in a triangle: True\n",
      "Dolphin: 10 \n",
      "\tis in a triangle: True\n",
      "Dolphin: 11 \n",
      "\tis in a triangle: True\n",
      "Dolphin: 12 \n",
      "\tis in a triangle: False\n",
      "Dolphin: 13 \n",
      "\tis in a triangle: False\n",
      "Dolphin: 14 \n",
      "\tis in a triangle: True\n",
      "Dolphin: 15 \n",
      "\tis in a triangle: True\n",
      "Dolphin: 16 \n",
      "\tis in a triangle: True\n",
      "Dolphin: 17 \n",
      "\tis in a triangle: True\n",
      "Dolphin: 18 \n",
      "\tis in a triangle: True\n",
      "Dolphin: 19 \n",
      "\tis in a triangle: True\n",
      "Dolphin: 2 \n",
      "\tis in a triangle: True\n",
      "Dolphin: 20 \n",
      "\tis in a triangle: True\n",
      "Dolphin: 21 \n",
      "\tis in a triangle: True\n",
      "Dolphin: 22 \n",
      "\tis in a triangle: True\n",
      "Dolphin: 23 \n",
      "\tis in a triangle: False\n",
      "Dolphin: 24 \n",
      "\tis in a triangle: True\n",
      "Dolphin: 25 \n",
      "\tis in a triangle: True\n",
      "Dolphin: 26 \n",
      "\tis in a triangle: True\n",
      "Dolphin: 27 \n",
      "\tis in a triangle: True\n",
      "Dolphin: 28 \n",
      "\tis in a triangle: True\n",
      "Dolphin: 29 \n",
      "\tis in a triangle: True\n",
      "Dolphin: 3 \n",
      "\tis in a triangle: True\n",
      "Dolphin: 30 \n",
      "\tis in a triangle: True\n",
      "Dolphin: 31 \n",
      "\tis in a triangle: True\n",
      "Dolphin: 32 \n",
      "\tis in a triangle: False\n",
      "Dolphin: 33 \n",
      "\tis in a triangle: True\n",
      "Dolphin: 34 \n",
      "\tis in a triangle: True\n",
      "Dolphin: 35 \n",
      "\tis in a triangle: True\n",
      "Dolphin: 36 \n",
      "\tis in a triangle: False\n",
      "Dolphin: 37 \n",
      "\tis in a triangle: True\n",
      "Dolphin: 38 \n",
      "\tis in a triangle: True\n",
      "Dolphin: 39 \n",
      "\tis in a triangle: True\n",
      "Dolphin: 4 \n",
      "\tis in a triangle: True\n",
      "Dolphin: 40 \n",
      "\tis in a triangle: False\n",
      "Dolphin: 41 \n",
      "\tis in a triangle: True\n",
      "Dolphin: 42 \n",
      "\tis in a triangle: True\n",
      "Dolphin: 43 \n",
      "\tis in a triangle: True\n",
      "Dolphin: 44 \n",
      "\tis in a triangle: True\n",
      "Dolphin: 45 \n",
      "\tis in a triangle: True\n",
      "Dolphin: 46 \n",
      "\tis in a triangle: True\n",
      "Dolphin: 47 \n",
      "\tis in a triangle: False\n",
      "Dolphin: 48 \n",
      "\tis in a triangle: True\n",
      "Dolphin: 49 \n",
      "\tis in a triangle: False\n",
      "Dolphin: 5 \n",
      "\tis in a triangle: False\n",
      "Dolphin: 50 \n",
      "\tis in a triangle: False\n",
      "Dolphin: 51 \n",
      "\tis in a triangle: True\n",
      "Dolphin: 52 \n",
      "\tis in a triangle: True\n",
      "Dolphin: 53 \n",
      "\tis in a triangle: True\n",
      "Dolphin: 54 \n",
      "\tis in a triangle: False\n",
      "Dolphin: 55 \n",
      "\tis in a triangle: True\n",
      "Dolphin: 56 \n",
      "\tis in a triangle: False\n",
      "Dolphin: 57 \n",
      "\tis in a triangle: False\n",
      "Dolphin: 58 \n",
      "\tis in a triangle: True\n",
      "Dolphin: 59 \n",
      "\tis in a triangle: False\n",
      "Dolphin: 6 \n",
      "\tis in a triangle: True\n",
      "Dolphin: 60 \n",
      "\tis in a triangle: True\n",
      "Dolphin: 61 \n",
      "\tis in a triangle: False\n",
      "Dolphin: 62 \n",
      "\tis in a triangle: False\n",
      "Dolphin: 7 \n",
      "\tis in a triangle: True\n",
      "Dolphin: 8 \n",
      "\tis in a triangle: True\n",
      "Dolphin: 9 \n",
      "\tis in a triangle: True\n"
     ]
    }
   ],
   "source": [
    "for n in sorted(G.nodes()):\n",
    "    print(\"Dolphin: {} \\n\\tis in a triangle: {}\".format(n, is_in_triangle(G, n)))"
   ]
  },
  {
   "cell_type": "code",
   "execution_count": 126,
   "metadata": {
    "scrolled": true
   },
   "outputs": [
    {
     "name": "stdout",
     "output_type": "stream",
     "text": [
      "Dolphin: 1 can create 10 new relations.\n",
      "Dolphin: 10 can create 10 new relations.\n",
      "Dolphin: 11 can create 6 new relations.\n",
      "Dolphin: 14 can create 14 new relations.\n",
      "Dolphin: 15 can create 49 new relations.\n",
      "Dolphin: 16 can create 16 new relations.\n",
      "Dolphin: 17 can create 6 new relations.\n",
      "Dolphin: 18 can create 28 new relations.\n",
      "Dolphin: 19 can create 10 new relations.\n",
      "Dolphin: 2 can create 24 new relations.\n",
      "Dolphin: 20 can create 3 new relations.\n",
      "Dolphin: 21 can create 31 new relations.\n",
      "Dolphin: 22 can create 7 new relations.\n",
      "Dolphin: 24 can create 2 new relations.\n",
      "Dolphin: 25 can create 7 new relations.\n",
      "Dolphin: 26 can create 1 new relations.\n",
      "Dolphin: 27 can create 1 new relations.\n",
      "Dolphin: 28 can create 6 new relations.\n",
      "Dolphin: 29 can create 7 new relations.\n",
      "Dolphin: 3 can create 5 new relations.\n",
      "Dolphin: 30 can create 27 new relations.\n",
      "Dolphin: 31 can create 7 new relations.\n",
      "Dolphin: 33 can create 2 new relations.\n",
      "Dolphin: 34 can create 30 new relations.\n",
      "Dolphin: 35 can create 7 new relations.\n",
      "Dolphin: 37 can create 20 new relations.\n",
      "Dolphin: 38 can create 42 new relations.\n",
      "Dolphin: 39 can create 20 new relations.\n",
      "Dolphin: 4 can create 2 new relations.\n",
      "Dolphin: 40 can create 1 new relations.\n",
      "Dolphin: 41 can create 21 new relations.\n",
      "Dolphin: 42 can create 4 new relations.\n",
      "Dolphin: 43 can create 10 new relations.\n",
      "Dolphin: 44 can create 16 new relations.\n",
      "Dolphin: 45 can create 5 new relations.\n",
      "Dolphin: 46 can create 38 new relations.\n",
      "Dolphin: 47 can create 1 new relations.\n",
      "Dolphin: 48 can create 9 new relations.\n",
      "Dolphin: 50 can create 1 new relations.\n",
      "Dolphin: 51 can create 16 new relations.\n",
      "Dolphin: 52 can create 34 new relations.\n",
      "Dolphin: 53 can create 4 new relations.\n",
      "Dolphin: 54 can create 1 new relations.\n",
      "Dolphin: 55 can create 13 new relations.\n",
      "Dolphin: 56 can create 1 new relations.\n",
      "Dolphin: 57 can create 1 new relations.\n",
      "Dolphin: 58 can create 23 new relations.\n",
      "Dolphin: 6 can create 3 new relations.\n",
      "Dolphin: 60 can create 7 new relations.\n",
      "Dolphin: 62 can create 3 new relations.\n",
      "Dolphin: 7 can create 7 new relations.\n",
      "Dolphin: 8 can create 8 new relations.\n",
      "Dolphin: 9 can create 11 new relations.\n"
     ]
    }
   ],
   "source": [
    "open_triangles_by_node = dict()\n",
    "\n",
    "for n in sorted(G.nodes()):\n",
    "    open_triangles = get_open_triangles(G, n)\n",
    "    open_triangles_by_node[n] = open_triangles\n",
    "    \n",
    "    if len(open_triangles) > 0:\n",
    "        print(\"Dolphin: {} can create {} new relations.\".format(n, len(open_triangles)))"
   ]
  },
  {
   "cell_type": "code",
   "execution_count": 52,
   "metadata": {},
   "outputs": [
    {
     "data": {
      "image/png": "[encoded data removed]",
      "text/plain": [
       "<Figure size 432x288 with 1 Axes>"
      ]
     },
     "metadata": {},
     "output_type": "display_data"
    }
   ],
   "source": [
    "subgraph_nodes = []\n",
    "test_dolphin = '11'\n",
    "\n",
    "subgraph_nodes.extend([test_dolphin])\n",
    "[subgraph_nodes.extend(a) for a in open_triangles_by_node[test_dolphin]]\n",
    "\n",
    "H = G.subgraph(set(subgraph_nodes))\n",
    "\n",
    "nx.draw(H, with_labels=True)\n",
    "plt.show()"
   ]
  },
  {
   "cell_type": "markdown",
   "metadata": {},
   "source": [
    "# Assortivity degree\n",
    "\n",
    "### measures the similarity of connections in the graph with respect to the node degree."
   ]
  },
  {
   "cell_type": "code",
   "execution_count": 117,
   "metadata": {},
   "outputs": [
    {
     "data": {
      "text/plain": [
       "-0.04359402821531252"
      ]
     },
     "execution_count": 117,
     "metadata": {},
     "output_type": "execute_result"
    }
   ],
   "source": [
    "nx.degree_assortativity_coefficient(G)"
   ]
  },
  {
   "cell_type": "markdown",
   "metadata": {},
   "source": [
    "# How we plan to use it at Sortlist ?\n",
    "\n",
    "## Unicorn project\n",
    "\n",
    "<img src=\"images/8.png\" width=\"500\">\n",
    "<a href src=\"https://www.amazon.com/SSOIU-Unicorn-Gaming-Custom-Dabbing/dp/B07D53Y9WM\">Cool unicorn took from this URL</a>"
   ]
  },
  {
   "cell_type": "markdown",
   "metadata": {},
   "source": [
    "<img src=\"images/7.png\" width=\"1400\">"
   ]
  },
  {
   "cell_type": "markdown",
   "metadata": {},
   "source": [
    "# Articulation points and network motifs"
   ]
  },
  {
   "cell_type": "code",
   "execution_count": 123,
   "metadata": {},
   "outputs": [
    {
     "data": {
      "text/plain": [
       "['18', '30', '33', '34', '39', '52', '58']"
      ]
     },
     "execution_count": 123,
     "metadata": {},
     "output_type": "execute_result"
    }
   ],
   "source": [
    "sorted(list(nx.articulation_points(G)))"
   ]
  },
  {
   "cell_type": "code",
   "execution_count": 124,
   "metadata": {},
   "outputs": [
    {
     "name": "stdout",
     "output_type": "stream",
     "text": [
      "['2', '7', '10', '14', '23', '26', '28', '32', '58']\n",
      "28\n"
     ]
    }
   ],
   "source": [
    "test_articulation_point = '18'\n",
    "\n",
    "print(list(G.neighbors(test_articulation_point)))\n",
    "\n",
    "print(len(open_triangles_by_node[test_articulation_point]))"
   ]
  },
  {
   "cell_type": "markdown",
   "metadata": {},
   "source": [
    "## Empirical evidence shown that the existence of AP is well correlated with the existence of network motifs\n",
    "### https://aisel.aisnet.org/ecis2019_rp/127/"
   ]
  }
 ],
 "metadata": {
  "kernelspec": {
   "display_name": "Python 3",
   "language": "python",
   "name": "python3"
  },
  "language_info": {
   "codemirror_mode": {
    "name": "ipython",
    "version": 3
   },
   "file_extension": ".py",
   "mimetype": "text/x-python",
   "name": "python",
   "nbconvert_exporter": "python",
   "pygments_lexer": "ipython3",
   "version": "3.7.4"
  }
 },
 "nbformat": 4,
 "nbformat_minor": 4
}
