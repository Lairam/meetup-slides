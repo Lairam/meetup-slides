{
 "cells": [
  {
   "cell_type": "code",
   "execution_count": 8,
   "metadata": {},
   "outputs": [],
   "source": [
    "import pandas as pd\n",
    "import sys\n",
    "import re\n",
    "import os\n",
    "\n",
    "import pathlib\n",
    "import pickle\n",
    "import string\n",
    "import numpy as np\n",
    "\n",
    "import matplotlib.pyplot as plt\n",
    "\n",
    "import nltk\n",
    "from nltk.stem import PorterStemmer, SnowballStemmer\n",
    "from nltk.corpus import stopwords\n",
    "\n",
    "from sklearn.datasets import load_files\n",
    "from sklearn.tree import DecisionTreeClassifier\n",
    "import sklearn.metrics as metrics\n",
    "from sklearn import model_selection, naive_bayes, svm\n",
    "from sklearn.linear_model import LogisticRegression\n",
    "from sklearn.feature_extraction.text import TfidfVectorizer\n",
    "from sklearn.preprocessing import LabelEncoder\n",
    "from sklearn.feature_extraction.text import CountVectorizer as CountVectorizer\n",
    "from sklearn.feature_extraction.text import TfidfTransformer as TfidfTransformer\n",
    "from sklearn.pipeline import make_pipeline\n",
    "\n",
    "import lime\n",
    "import lime.lime_tabular\n",
    "from lime import lime_text\n",
    "from lime.lime_text import LimeTextExplainer\n",
    "\n",
    "%matplotlib inline"
   ]
  },
  {
   "cell_type": "markdown",
   "metadata": {},
   "source": [
    "<h2>1. Read the \"raw\" dataset</h2>"
   ]
  },
  {
   "cell_type": "code",
   "execution_count": 9,
   "metadata": {},
   "outputs": [
    {
     "data": {
      "text/html": [
       "<div>\n",
       "<style scoped>\n",
       "    .dataframe tbody tr th:only-of-type {\n",
       "        vertical-align: middle;\n",
       "    }\n",
       "\n",
       "    .dataframe tbody tr th {\n",
       "        vertical-align: top;\n",
       "    }\n",
       "\n",
       "    .dataframe thead th {\n",
       "        text-align: right;\n",
       "    }\n",
       "</style>\n",
       "<table border=\"1\" class=\"dataframe\">\n",
       "  <thead>\n",
       "    <tr style=\"text-align: right;\">\n",
       "      <th></th>\n",
       "      <th>text</th>\n",
       "      <th>label</th>\n",
       "    </tr>\n",
       "  </thead>\n",
       "  <tbody>\n",
       "    <tr>\n",
       "      <th>0</th>\n",
       "      <td>acest film a fost cel mai rau film pe care l-a...</td>\n",
       "      <td>0</td>\n",
       "    </tr>\n",
       "    <tr>\n",
       "      <th>1</th>\n",
       "      <td>calitatea de nostri a lui foley in acest film ...</td>\n",
       "      <td>1</td>\n",
       "    </tr>\n",
       "    <tr>\n",
       "      <th>3</th>\n",
       "      <td>creativitatea acestui film a fost pierduta de ...</td>\n",
       "      <td>0</td>\n",
       "    </tr>\n",
       "    <tr>\n",
       "      <th>4</th>\n",
       "      <td>cand am inchiriat acest lucru, speram ca ceea ...</td>\n",
       "      <td>0</td>\n",
       "    </tr>\n",
       "    <tr>\n",
       "      <th>5</th>\n",
       "      <td>acesta este un film de familie care incalzeste...</td>\n",
       "      <td>1</td>\n",
       "    </tr>\n",
       "    <tr>\n",
       "      <th>6</th>\n",
       "      <td>recomand\\nraportul calitate-pret unul foarte bun</td>\n",
       "      <td>1</td>\n",
       "    </tr>\n",
       "    <tr>\n",
       "      <th>7</th>\n",
       "      <td>acest film parea promitator, dar de fapt era d...</td>\n",
       "      <td>0</td>\n",
       "    </tr>\n",
       "    <tr>\n",
       "      <th>8</th>\n",
       "      <td>este foarte amuzant. are o distributie mare, c...</td>\n",
       "      <td>1</td>\n",
       "    </tr>\n",
       "    <tr>\n",
       "      <th>9</th>\n",
       "      <td>am jurat mult timp in urma ca niciodata, sa ma...</td>\n",
       "      <td>0</td>\n",
       "    </tr>\n",
       "    <tr>\n",
       "      <th>10</th>\n",
       "      <td>unul dintre filmele cele mai nihiliste si brut...</td>\n",
       "      <td>1</td>\n",
       "    </tr>\n",
       "  </tbody>\n",
       "</table>\n",
       "</div>"
      ],
      "text/plain": [
       "                                                 text  label\n",
       "0   acest film a fost cel mai rau film pe care l-a...      0\n",
       "1   calitatea de nostri a lui foley in acest film ...      1\n",
       "3   creativitatea acestui film a fost pierduta de ...      0\n",
       "4   cand am inchiriat acest lucru, speram ca ceea ...      0\n",
       "5   acesta este un film de familie care incalzeste...      1\n",
       "6    recomand\\nraportul calitate-pret unul foarte bun      1\n",
       "7   acest film parea promitator, dar de fapt era d...      0\n",
       "8   este foarte amuzant. are o distributie mare, c...      1\n",
       "9   am jurat mult timp in urma ca niciodata, sa ma...      0\n",
       "10  unul dintre filmele cele mai nihiliste si brut...      1"
      ]
     },
     "execution_count": 9,
     "metadata": {},
     "output_type": "execute_result"
    }
   ],
   "source": [
    "def get_articles() -> pd.DataFrame:\n",
    "    \"\"\"\n",
    "    data is taken from: # data is taken from: https://github.com/katakonst/sentiment-analysis-tensorflow/tree/master/datasets\n",
    "    :return: the dataset containing labeled articles\n",
    "    \"\"\"\n",
    "    # define paths where text files were placed\n",
    "    path = pathlib.Path('%s/sentiment-analysis-tensorflow-master/datasets/ro/train/' % os.environ['NLP_RO_DATA'])\n",
    "    \n",
    "    # load files\n",
    "    data = load_files(path, encoding=\"utf-8\", decode_error=\"replace\", random_state=500)\n",
    "        \n",
    "    # remove newlines\n",
    "    data['data'] = [it.lower().replace('\\n\\n', ' ') for it in data['data']]\n",
    "\n",
    "    # convert dict to Pandas dataframe\n",
    "    df_raw = pd.DataFrame(list(zip(data['data'], data['target'])), columns=['text', 'label'])\n",
    "    \n",
    "    # select only rows with non empty text\n",
    "    df = df_raw[df_raw['text'] != '']\n",
    "    \n",
    "    return df\n",
    "\n",
    "df_raw = get_articles()\n",
    "df = df_raw.copy()\n",
    "df_raw.head(10)"
   ]
  },
  {
   "cell_type": "markdown",
   "metadata": {},
   "source": [
    "<h2>2. Pre-process dataset</h2>"
   ]
  },
  {
   "cell_type": "markdown",
   "metadata": {},
   "source": [
    "<h3>2.1. Cleanup + Tokenization + Stemming</h3>"
   ]
  },
  {
   "cell_type": "code",
   "execution_count": 10,
   "metadata": {},
   "outputs": [
    {
     "data": {
      "text/html": [
       "<div>\n",
       "<style scoped>\n",
       "    .dataframe tbody tr th:only-of-type {\n",
       "        vertical-align: middle;\n",
       "    }\n",
       "\n",
       "    .dataframe tbody tr th {\n",
       "        vertical-align: top;\n",
       "    }\n",
       "\n",
       "    .dataframe thead th {\n",
       "        text-align: right;\n",
       "    }\n",
       "</style>\n",
       "<table border=\"1\" class=\"dataframe\">\n",
       "  <thead>\n",
       "    <tr style=\"text-align: right;\">\n",
       "      <th></th>\n",
       "      <th>text</th>\n",
       "      <th>label</th>\n",
       "    </tr>\n",
       "  </thead>\n",
       "  <tbody>\n",
       "    <tr>\n",
       "      <th>0</th>\n",
       "      <td>[film, rau, film, vazut, vreodata, misiune, do...</td>\n",
       "      <td>0</td>\n",
       "    </tr>\n",
       "    <tr>\n",
       "      <th>1</th>\n",
       "      <td>[calitatea, foley, film, saturat, intens, celu...</td>\n",
       "      <td>1</td>\n",
       "    </tr>\n",
       "    <tr>\n",
       "      <th>3</th>\n",
       "      <td>[creativitatea, film, pierduta, inceput, scrii...</td>\n",
       "      <td>0</td>\n",
       "    </tr>\n",
       "    <tr>\n",
       "      <th>4</th>\n",
       "      <td>[inchiriat, lucru, speram, reign, of, fire, na...</td>\n",
       "      <td>0</td>\n",
       "    </tr>\n",
       "    <tr>\n",
       "      <th>5</th>\n",
       "      <td>[film, familie, incalzeste, inima, absolut, st...</td>\n",
       "      <td>1</td>\n",
       "    </tr>\n",
       "    <tr>\n",
       "      <th>6</th>\n",
       "      <td>[recomand, raportul, bun]</td>\n",
       "      <td>1</td>\n",
       "    </tr>\n",
       "    <tr>\n",
       "      <th>7</th>\n",
       "      <td>[film, parea, promitator, fapt, destul, rau, p...</td>\n",
       "      <td>0</td>\n",
       "    </tr>\n",
       "    <tr>\n",
       "      <th>8</th>\n",
       "      <td>[amuzant, distributie, mare, performante, groz...</td>\n",
       "      <td>1</td>\n",
       "    </tr>\n",
       "    <tr>\n",
       "      <th>9</th>\n",
       "      <td>[jurat, timp, urma, niciodata, uit, vreodata, ...</td>\n",
       "      <td>0</td>\n",
       "    </tr>\n",
       "    <tr>\n",
       "      <th>10</th>\n",
       "      <td>[filmele, nihiliste, brutale, vazut, vreodata,...</td>\n",
       "      <td>1</td>\n",
       "    </tr>\n",
       "  </tbody>\n",
       "</table>\n",
       "</div>"
      ],
      "text/plain": [
       "                                                 text  label\n",
       "0   [film, rau, film, vazut, vreodata, misiune, do...      0\n",
       "1   [calitatea, foley, film, saturat, intens, celu...      1\n",
       "3   [creativitatea, film, pierduta, inceput, scrii...      0\n",
       "4   [inchiriat, lucru, speram, reign, of, fire, na...      0\n",
       "5   [film, familie, incalzeste, inima, absolut, st...      1\n",
       "6                           [recomand, raportul, bun]      1\n",
       "7   [film, parea, promitator, fapt, destul, rau, p...      0\n",
       "8   [amuzant, distributie, mare, performante, groz...      1\n",
       "9   [jurat, timp, urma, niciodata, uit, vreodata, ...      0\n",
       "10  [filmele, nihiliste, brutale, vazut, vreodata,...      1"
      ]
     },
     "execution_count": 10,
     "metadata": {},
     "output_type": "execute_result"
    }
   ],
   "source": [
    "STOPWORDS = set(stopwords.words('romanian'))\n",
    "PUNCTUATION_SIGNS = [c for c in string.punctuation] + ['``', \"''\", '...', '..']\n",
    "\n",
    "# convert the labels from strings to binary values for our classifier\n",
    "df['label'] = df.label.map({l: idx for idx, l in enumerate(set(df.label))})\n",
    "\n",
    "# convert all characters to lower-case\n",
    "df['text'] = df.text.map(lambda x: x.lower())\n",
    "\n",
    "# remove new lines\n",
    "df = df.replace('\\n', ' ', regex=True)\n",
    "\n",
    "# apply tokenization: divide a string into substrings by splitting on the specified string (defined in subclasses).\n",
    "df['text'] = df['text'].apply(nltk.word_tokenize)\n",
    "\n",
    "# remove non-alphanumeric words\n",
    "df['text'] = df.text.map(lambda txt: [word for word in txt if word.isalpha()])\n",
    "\n",
    "# remove stopwords + punctuation signs\n",
    "df['text'] = df.text.map(lambda txt: [word.strip() for word in txt if word not in STOPWORDS])\n",
    "df['text'] = df.text.map(lambda txt: [word.strip() for word in txt if word not in PUNCTUATION_SIGNS ])\n",
    "\n",
    "# perform word stemming. The idea of stemming is to normalize our text to remove all variations of \n",
    "# words carrying the same meaning, regardless of the tense. \n",
    "# Porter Stemmer stemming algorithm is the most popular:\n",
    "# https://www.nltk.org/_modules/nltk/stem/snowball.html\n",
    "# http://snowball.tartarus.org/algorithms/romanian/stemmer.html\n",
    "stemmer = SnowballStemmer(language=\"romanian\")  # PorterStemmer()\n",
    "df.head(10)"
   ]
  },
  {
   "cell_type": "code",
   "execution_count": 11,
   "metadata": {},
   "outputs": [
    {
     "data": {
      "text/html": [
       "<div>\n",
       "<style scoped>\n",
       "    .dataframe tbody tr th:only-of-type {\n",
       "        vertical-align: middle;\n",
       "    }\n",
       "\n",
       "    .dataframe tbody tr th {\n",
       "        vertical-align: top;\n",
       "    }\n",
       "\n",
       "    .dataframe thead th {\n",
       "        text-align: right;\n",
       "    }\n",
       "</style>\n",
       "<table border=\"1\" class=\"dataframe\">\n",
       "  <thead>\n",
       "    <tr style=\"text-align: right;\">\n",
       "      <th></th>\n",
       "      <th>text</th>\n",
       "      <th>label</th>\n",
       "    </tr>\n",
       "  </thead>\n",
       "  <tbody>\n",
       "    <tr>\n",
       "      <th>0</th>\n",
       "      <td>[film, rau, film, vazut, vreodat, misiun, domi...</td>\n",
       "      <td>0</td>\n",
       "    </tr>\n",
       "    <tr>\n",
       "      <th>1</th>\n",
       "      <td>[calitat, foley, film, satur, intens, celuloz,...</td>\n",
       "      <td>1</td>\n",
       "    </tr>\n",
       "    <tr>\n",
       "      <th>3</th>\n",
       "      <td>[creativ, film, pierdut, incep, scriitor, regi...</td>\n",
       "      <td>0</td>\n",
       "    </tr>\n",
       "    <tr>\n",
       "      <th>4</th>\n",
       "      <td>[inchir, lucru, sper, reign, of, fir, nast, ci...</td>\n",
       "      <td>0</td>\n",
       "    </tr>\n",
       "    <tr>\n",
       "      <th>5</th>\n",
       "      <td>[film, famil, incalzest, inim, absol, straluc,...</td>\n",
       "      <td>1</td>\n",
       "    </tr>\n",
       "    <tr>\n",
       "      <th>6</th>\n",
       "      <td>[recomand, raport, bun]</td>\n",
       "      <td>1</td>\n",
       "    </tr>\n",
       "    <tr>\n",
       "      <th>7</th>\n",
       "      <td>[film, par, promit, fapt, dest, rau, premis, c...</td>\n",
       "      <td>0</td>\n",
       "    </tr>\n",
       "    <tr>\n",
       "      <th>8</th>\n",
       "      <td>[amuz, distribut, mar, perform, grozav, ales, ...</td>\n",
       "      <td>1</td>\n",
       "    </tr>\n",
       "    <tr>\n",
       "      <th>9</th>\n",
       "      <td>[jurat, timp, urma, niciod, uit, vreodat, film...</td>\n",
       "      <td>0</td>\n",
       "    </tr>\n",
       "    <tr>\n",
       "      <th>10</th>\n",
       "      <td>[film, nihilist, brutal, vazut, vreodat, tragi...</td>\n",
       "      <td>1</td>\n",
       "    </tr>\n",
       "  </tbody>\n",
       "</table>\n",
       "</div>"
      ],
      "text/plain": [
       "                                                 text  label\n",
       "0   [film, rau, film, vazut, vreodat, misiun, domi...      0\n",
       "1   [calitat, foley, film, satur, intens, celuloz,...      1\n",
       "3   [creativ, film, pierdut, incep, scriitor, regi...      0\n",
       "4   [inchir, lucru, sper, reign, of, fir, nast, ci...      0\n",
       "5   [film, famil, incalzest, inim, absol, straluc,...      1\n",
       "6                             [recomand, raport, bun]      1\n",
       "7   [film, par, promit, fapt, dest, rau, premis, c...      0\n",
       "8   [amuz, distribut, mar, perform, grozav, ales, ...      1\n",
       "9   [jurat, timp, urma, niciod, uit, vreodat, film...      0\n",
       "10  [film, nihilist, brutal, vazut, vreodat, tragi...      1"
      ]
     },
     "execution_count": 11,
     "metadata": {},
     "output_type": "execute_result"
    }
   ],
   "source": [
    "df['text'] = df['text'].apply(lambda x: [stemmer.stem(y.strip()) for y in x if y])\n",
    "df.head(10)"
   ]
  },
  {
   "cell_type": "code",
   "execution_count": 12,
   "metadata": {},
   "outputs": [
    {
     "name": "stdout",
     "output_type": "stream",
     "text": [
      "There are 6827 labels with value 0\n",
      "There are 10825 labels with value 1\n"
     ]
    }
   ],
   "source": [
    "print('There are {} labels with value {}'.format(df[df.label==0].shape[0], 0))\n",
    "print('There are {} labels with value {}'.format(df[df.label==1].shape[0], 1))"
   ]
  },
  {
   "cell_type": "markdown",
   "metadata": {},
   "source": [
    "<h3>2.2. Balance the dataset</h3>"
   ]
  },
  {
   "cell_type": "code",
   "execution_count": 13,
   "metadata": {},
   "outputs": [
    {
     "name": "stdout",
     "output_type": "stream",
     "text": [
      "There are 6827 labels with value 0\n",
      "There are 6827 labels with value 1\n"
     ]
    },
    {
     "data": {
      "text/html": [
       "<div>\n",
       "<style scoped>\n",
       "    .dataframe tbody tr th:only-of-type {\n",
       "        vertical-align: middle;\n",
       "    }\n",
       "\n",
       "    .dataframe tbody tr th {\n",
       "        vertical-align: top;\n",
       "    }\n",
       "\n",
       "    .dataframe thead th {\n",
       "        text-align: right;\n",
       "    }\n",
       "</style>\n",
       "<table border=\"1\" class=\"dataframe\">\n",
       "  <thead>\n",
       "    <tr style=\"text-align: right;\">\n",
       "      <th></th>\n",
       "      <th>text</th>\n",
       "      <th>label</th>\n",
       "    </tr>\n",
       "  </thead>\n",
       "  <tbody>\n",
       "    <tr>\n",
       "      <th>7388</th>\n",
       "      <td>[multum, sper, prod, cumpar]</td>\n",
       "      <td>1</td>\n",
       "    </tr>\n",
       "    <tr>\n",
       "      <th>3023</th>\n",
       "      <td>[florin, finaru, part, capac, locas, card, mic...</td>\n",
       "      <td>1</td>\n",
       "    </tr>\n",
       "    <tr>\n",
       "      <th>679</th>\n",
       "      <td>[minun, imagin, b, minun, intampl, joe, lewis,...</td>\n",
       "      <td>1</td>\n",
       "    </tr>\n",
       "    <tr>\n",
       "      <th>11661</th>\n",
       "      <td>[trebuit, uit, niciod, film, stil, film, consi...</td>\n",
       "      <td>0</td>\n",
       "    </tr>\n",
       "    <tr>\n",
       "      <th>9498</th>\n",
       "      <td>[disney, intaln, film, putut, putin, dou, sequ...</td>\n",
       "      <td>0</td>\n",
       "    </tr>\n",
       "    <tr>\n",
       "      <th>3971</th>\n",
       "      <td>[excelent, lei, noiembr, telefon, excelent, ec...</td>\n",
       "      <td>1</td>\n",
       "    </tr>\n",
       "    <tr>\n",
       "      <th>8091</th>\n",
       "      <td>[apar, catev, lun, cred, plac, astept]</td>\n",
       "      <td>0</td>\n",
       "    </tr>\n",
       "    <tr>\n",
       "      <th>13294</th>\n",
       "      <td>[telefon, exceptional, reusit, achizition, var...</td>\n",
       "      <td>1</td>\n",
       "    </tr>\n",
       "    <tr>\n",
       "      <th>4752</th>\n",
       "      <td>[nemultum, chinezar, bater, slab, scoat, sunet...</td>\n",
       "      <td>0</td>\n",
       "    </tr>\n",
       "    <tr>\n",
       "      <th>9400</th>\n",
       "      <td>[film, sti, vei, iub, prim, catev, secund, fil...</td>\n",
       "      <td>1</td>\n",
       "    </tr>\n",
       "  </tbody>\n",
       "</table>\n",
       "</div>"
      ],
      "text/plain": [
       "                                                    text  label\n",
       "7388                        [multum, sper, prod, cumpar]      1\n",
       "3023   [florin, finaru, part, capac, locas, card, mic...      1\n",
       "679    [minun, imagin, b, minun, intampl, joe, lewis,...      1\n",
       "11661  [trebuit, uit, niciod, film, stil, film, consi...      0\n",
       "9498   [disney, intaln, film, putut, putin, dou, sequ...      0\n",
       "3971   [excelent, lei, noiembr, telefon, excelent, ec...      1\n",
       "8091              [apar, catev, lun, cred, plac, astept]      0\n",
       "13294  [telefon, exceptional, reusit, achizition, var...      1\n",
       "4752   [nemultum, chinezar, bater, slab, scoat, sunet...      0\n",
       "9400   [film, sti, vei, iub, prim, catev, secund, fil...      1"
      ]
     },
     "execution_count": 13,
     "metadata": {},
     "output_type": "execute_result"
    }
   ],
   "source": [
    "positive_texts = df[df.label==1]\n",
    "negative_texts = df[df.label==0]\n",
    "df_preproc_balanced = pd.concat([positive_texts.sample(negative_texts.shape[0]), negative_texts], axis=0)\n",
    "\n",
    "print('There are {} labels with value {}'.format(df_preproc_balanced[df_preproc_balanced.label==0].shape[0], 0))\n",
    "print('There are {} labels with value {}'.format(df_preproc_balanced[df_preproc_balanced.label==1].shape[0], 1))\n",
    "\n",
    "# show a sample of 10 values\n",
    "df_preproc_balanced.sample(10)"
   ]
  },
  {
   "cell_type": "markdown",
   "metadata": {},
   "source": [
    "<h2>3. Scikit-learn based models</h2>"
   ]
  },
  {
   "cell_type": "markdown",
   "metadata": {},
   "source": [
    "<h3>3.1. Define methods</h3>"
   ]
  },
  {
   "cell_type": "code",
   "execution_count": 7,
   "metadata": {},
   "outputs": [],
   "source": [
    "def classify_dtree(x_test, x_train, y_test, y_train):\n",
    "    # create Decision tree classifier\n",
    "    model_dtree = DecisionTreeClassifier()\n",
    "    \n",
    "    # fit Decision tree classifier on training set\n",
    "    model_dtree.fit(x_train, y_train)\n",
    "    \n",
    "    # predict on test dataset\n",
    "    y_pred_dtree = model_dtree.predict(x_test)\n",
    "    \n",
    "    # Use 'accuracy_score()' function to compute the prediction accuracy\n",
    "    _dtree_accuracy_score = metrics.accuracy_score(y_pred_dtree, y_test) * 100\n",
    "    \n",
    "    # compute classification report\n",
    "    classification_report = metrics.classification_report(y_test, y_pred_dtree)\n",
    "    \n",
    "    return model_dtree, _dtree_accuracy_score, y_pred_dtree, classification_report\n",
    "\n",
    "\n",
    "def classify_svc(x_test, x_train, y_test, y_train):\n",
    "    # crate SVM classifier - 'linear' model performs better than 'rbf' model\n",
    "    model_svc = svm.SVC(C=1.0, kernel='linear', degree=3, gamma='auto', probability=False)\n",
    "    \n",
    "    # fit SVM classifier on training set\n",
    "    model_svc.fit(x_train, y_train)\n",
    "    \n",
    "    # predict on test dataset\n",
    "    y_pred_svc = model_svc.predict(x_test)\n",
    "    \n",
    "    # Use 'accuracy_score()' function to compute the prediction accuracy\n",
    "    _svm_accuracy_score = metrics.accuracy_score(y_pred_svc, y_test) * 100\n",
    "    \n",
    "    # compute classification report\n",
    "    classification_report = metrics.classification_report(y_test, y_pred_svc)\n",
    "    \n",
    "    return model_svc, _svm_accuracy_score, y_pred_svc, classification_report\n",
    "\n",
    "def classify_logistic_regression(x_test, x_train, y_test, y_train):\n",
    "    # crate Logistic Regression classifier\n",
    "    model_lr = LogisticRegression()\n",
    "    \n",
    "    # fit classifier on training set\n",
    "    model_lr.fit(x_train, y_train)\n",
    "    \n",
    "    # predict on test dataset\n",
    "    y_pred_lr = model_lr.predict(x_test)\n",
    "    \n",
    "    # Use 'accuracy_score()' function to compute the prediction accuracy\n",
    "    _lr_accuracy_score = metrics.accuracy_score(y_pred_lr, y_test) * 100\n",
    "    \n",
    "    # compute classification report\n",
    "    classification_report = metrics.classification_report(y_test, y_pred_lr)\n",
    "    \n",
    "    return model_lr, _lr_accuracy_score, y_pred_lr, classification_report\n",
    "\n",
    "\n",
    "def classify_bayes(x_test, x_train, y_test, y_train):\n",
    "    # create Naive Bayes classifier\n",
    "    # model_bayes = naive_bayes.MultinomialNB()  # the algorithm assumes that the features are drawn from a multinomial distribution\n",
    "#     model_bayes = naive_bayes.GaussianNB()  # continuous values associated with each class are distributed according to a normal (or Gaussian) distribution\n",
    "    model_bayes = naive_bayes.BernoulliNB()  # designed for binary/boolean features.\n",
    "#     model_bayes = naive_bayes.ComplementNB()  # designed for imbalanced datasets\n",
    "    \n",
    "    # fit Bayesian classifier on training set\n",
    "    model_bayes.fit(x_train, y_train)\n",
    "    \n",
    "    # predict on test dataset\n",
    "    y_pred_bayes = model_bayes.predict(x_test)\n",
    "    \n",
    "    # compute accuracy score by using accuracy_score() function\n",
    "    _bayes_accuracy_score = metrics.accuracy_score(y_pred_bayes, y_test) * 100\n",
    "    \n",
    "    # compute classification report\n",
    "    classification_report = metrics.classification_report(y_test, y_pred_bayes)\n",
    "    \n",
    "    return model_bayes, _bayes_accuracy_score, y_pred_bayes, classification_report\n",
    "\n",
    "\n",
    "def split_and_convert(_dataset, _test_size=0.2):\n",
    "\n",
    "    # split the model into train and test datasets\n",
    "    x_train_raw, x_test_raw, y_train_raw, y_test_raw = model_selection.train_test_split(_dataset['text'], _dataset['label'], test_size=_test_size)\n",
    "\n",
    "    # encode (replace) text labels with numerical values between 0 and n_classes-1\n",
    "    label_encoder = LabelEncoder()    \n",
    "\n",
    "    # convert labels to digits\n",
    "    y_train = label_encoder.fit_transform(y_train_raw)\n",
    "    y_test = label_encoder.fit_transform(y_test_raw)\n",
    "\n",
    "    # count words\n",
    "    count_vectorizer = CountVectorizer()\n",
    "    train_word_counts = count_vectorizer.fit_transform(x_train_raw)\n",
    "    test_word_counts = count_vectorizer.transform(x_test_raw)\n",
    "\n",
    "    # Transform x_train\n",
    "    transformer = TfidfTransformer(use_idf=True).fit(train_word_counts)\n",
    "    x_train_transformed = transformer.transform(train_word_counts)\n",
    "    x_train = x_train_transformed.toarray()  # matrices should not be sparse (aka. dense) -> hence .toarray()\n",
    "\n",
    "    # Transform x_test \n",
    "    x_test_transformed = transformer.transform(test_word_counts)\n",
    "    x_test = x_test_transformed.toarray()  # matrices should not be sparse (aka. dense) -> hence .toarray()\n",
    "\n",
    "    dataset_split = {'raw': {'x_train': x_train_raw, 'x_test': x_test_raw, \n",
    "                             'y_train': y_train_raw, 'y_test': y_test_raw},\n",
    "                     'transformed': {'x_train': x_train, 'x_test': x_test, \n",
    "                                     'y_train': y_train, 'y_test': y_test}}\n",
    "    \n",
    "    return dataset_split, transformer, count_vectorizer\n",
    "\n",
    "\n",
    "def truncate_dataset(dataset: pd.DataFrame, _max_words_per_document: int = 1000,\n",
    "                     max_texts: int = 1000) -> pd.DataFrame:\n",
    "    \"\"\"\n",
    "    This method does 2 things: 1. select a random sample from the dataset\n",
    "                               2. reduce the amount of words in a document\n",
    "    :param dataset: input dataset\n",
    "    :param _max_words_per_document: the maximum allowed number of words per document\n",
    "    :param max_texts: maximum allowed number of text from the dataset\n",
    "    :return: the truncated version of the dataset\n",
    "    \"\"\"\n",
    "#     print('Started truncating dataset')\n",
    "    if _max_words_per_document:\n",
    "        dataset['text'] = dataset['text'].apply(lambda x: ' '.join(x[0:_max_words_per_document]))\n",
    "    else:\n",
    "        dataset['text'] = dataset['text'].apply(lambda x: ' '.join(x))\n",
    "\n",
    "    # select a random subset of the texts\n",
    "    dataset = dataset.sample(max_texts)\n",
    "#     print('Done truncating the dataset')\n",
    "    \n",
    "    return dataset"
   ]
  },
  {
   "cell_type": "markdown",
   "metadata": {},
   "source": [
    "<h3>3.2. Run Experiments</h3>"
   ]
  },
  {
   "cell_type": "code",
   "execution_count": 10,
   "metadata": {},
   "outputs": [
    {
     "name": "stdout",
     "output_type": "stream",
     "text": [
      "Dataset length 13653, exp_no: 0\n",
      "CPU times: user 41min 27s, sys: 8.55 s, total: 41min 35s\n",
      "Wall time: 41min 13s\n"
     ]
    }
   ],
   "source": [
    "%%time\n",
    "def run(dataset: pd.DataFrame, test_size=0.2):\n",
    "    \"\"\"\n",
    "    Do the actual training, fitting and testing of the models.\n",
    "    :param dataset: input dataset\n",
    "    :param test_size: how large the test is\n",
    "    :return:\n",
    "    \"\"\"\n",
    "    # train and split dataset into train and test parts\n",
    "    dataset_split, transformer, count_vectorizer = split_and_convert(dataset, test_size)\n",
    "\n",
    "    # group train/test datasets\n",
    "    x_test, x_train, y_test, y_train = dataset_split['transformed']['x_test'], \\\n",
    "                                       dataset_split['transformed']['x_train'], \\\n",
    "                                       dataset_split['transformed']['y_test'], \\\n",
    "                                       dataset_split['transformed']['y_train']\n",
    "    \n",
    "    # 1. Bayes\n",
    "    model_bayes, bayes_accuracy_score, y_pred_bayes, cl_report_bayes = classify_bayes(x_test, x_train, y_test, y_train)\n",
    "\n",
    "    # 2. SVC\n",
    "    model_svc, svc_accuracy_score, y_pred_svm, cl_report_svc = classify_svc(x_test, x_train, y_test, y_train)\n",
    "\n",
    "    # 3. Decision Tree\n",
    "    model_dtree, dtree_accuracy_score, y_pred_dtree, cl_report_dtree = classify_dtree(x_test, x_train, y_test, y_train)\n",
    "\n",
    "    # 4. Logistic Regression\n",
    "    model_lr, lr_accuracy_score, y_pred_lr, cl_report_lr = classify_logistic_regression(x_test, x_train, y_test, y_train)\n",
    "    \n",
    "    # group accuracy scores\n",
    "    accuracy_scores = {'bayes': bayes_accuracy_score, 'svc': svc_accuracy_score, 'dtree': dtree_accuracy_score, 'lr': lr_accuracy_score}\n",
    "    \n",
    "    # group models\n",
    "    models = {'bayes': model_bayes, 'svc': model_svc, 'dtree': model_dtree, 'lr': model_lr}\n",
    "    \n",
    "    # group classification reports\n",
    "    classification_reports = {'bayes': cl_report_bayes, 'svc': cl_report_svc, 'dtree': cl_report_dtree, 'lr': cl_report_lr}\n",
    "    \n",
    "    return accuracy_scores, models, classification_reports, transformer, count_vectorizer, dataset_split\n",
    "\n",
    "####################################################\n",
    "\n",
    "results = pd.DataFrame(columns=['max_no_texts', 'classifier_type', 'exp_no', 'accuracy'])\n",
    "repeats = 1\n",
    "transformer = None\n",
    "\n",
    "for dl in range(13653, 13654, 1):\n",
    "    # repeat experiment for the same parameters a couple of times\n",
    "    for exp_no in range(repeats):\n",
    "        print('Dataset length {}, exp_no: {}'.format(dl, exp_no))\n",
    "        truncated_dataset = truncate_dataset(dataset=df_preproc_balanced.copy(), max_texts=dl)\n",
    "        \n",
    "        # run an experiment\n",
    "        accuracy_scores, models, classification_reports, \\\n",
    "        transformer, count_vectorizer, dataset_split = run(dataset=truncated_dataset, test_size=0.2)\n",
    "        \n",
    "        # store the results\n",
    "        results = results.append({'max_no_texts': dl, 'classifier_type': 'bayes',\n",
    "                                  'exp_no': exp_no, 'accuracy': accuracy_scores['bayes']}, ignore_index=True)\n",
    "\n",
    "        results = results.append({'max_no_texts': dl, 'classifier_type': 'SVC',\n",
    "                                  'exp_no': exp_no, 'accuracy': accuracy_scores['svc']}, ignore_index=True)\n",
    "\n",
    "        results = results.append({'max_no_texts': dl, 'classifier_type': 'DTree',\n",
    "                                  'exp_no': exp_no, 'accuracy': accuracy_scores['dtree']}, ignore_index=True)\n",
    "        \n",
    "        results = results.append({'max_no_texts': dl, 'classifier_type': 'LR',\n",
    "                                  'exp_no': exp_no, 'accuracy': accuracy_scores['lr']}, ignore_index=True)"
   ]
  },
  {
   "cell_type": "markdown",
   "metadata": {},
   "source": [
    "<h3>3.3. Plot results</h3>"
   ]
  },
  {
   "cell_type": "code",
   "execution_count": 11,
   "metadata": {},
   "outputs": [
    {
     "data": {
      "image/png": "[encoded data removed]",
      "text/plain": [
       "<Figure size 1440x720 with 1 Axes>"
      ]
     },
     "metadata": {
      "needs_background": "light"
     },
     "output_type": "display_data"
    }
   ],
   "source": [
    "def plot_results(_results):\n",
    "    plt.rcParams.update({'font.size': 18})\n",
    "    fig, ax = plt.subplots(figsize=(20, 10))\n",
    "    plt.rc('legend', fontsize=23, loc='lower right')\n",
    "\n",
    "    # unstack the dataframe\n",
    "    _results.groupby(['max_no_texts', 'classifier_type']).accuracy.agg(['median']).unstack().plot(ax=ax, grid=True, kind='bar')\n",
    "    ax.legend(['DTree', 'LR', 'SVC', 'Bayes'])\n",
    "    ax.set_xlabel('Dataset length', size=18)\n",
    "    ax.set_ylabel('Accuracy [%]', size=18)\n",
    "\n",
    "plot_results(results)"
   ]
  },
  {
   "cell_type": "code",
   "execution_count": 12,
   "metadata": {},
   "outputs": [
    {
     "name": "stdout",
     "output_type": "stream",
     "text": [
      "dataset shape: (13654, 2)\n",
      "bayes: 73.81911387770047\n",
      "svc: 85.060417429513\n",
      "dtree: 74.47821310875136\n",
      "logistic regression: 85.060417429513\n"
     ]
    }
   ],
   "source": [
    "print('dataset shape: {}'.format(df_preproc_balanced.shape))\n",
    "print('bayes: {}'.format(accuracy_scores['bayes']))\n",
    "print('svc: {}'.format(accuracy_scores['svc']))\n",
    "print('dtree: {}'.format(accuracy_scores['dtree']))\n",
    "print('logistic regression: {}'.format(accuracy_scores['lr']))"
   ]
  },
  {
   "cell_type": "markdown",
   "metadata": {},
   "source": [
    "<h3>3.4. Test models</h3>"
   ]
  },
  {
   "cell_type": "code",
   "execution_count": 31,
   "metadata": {},
   "outputs": [
    {
     "data": {
      "text/plain": [
       "array([1, 0, 0])"
      ]
     },
     "execution_count": 31,
     "metadata": {},
     "output_type": "execute_result"
    }
   ],
   "source": [
    "test_sample1 = 'Filmul este fantastic! Imi place foarte mult!'\n",
    "test_sample2 = 'Filmul este groaznic! Nu l-as viziona!'\n",
    "test_sample3 = 'Filmul este so-so. As merge mai degraba la teatru.'\n",
    "\n",
    "data = {'text': [test_sample1, test_sample2, test_sample3], 'label': [-1, -1, -1]}\n",
    "data_df = pd.DataFrame.from_dict(data)\n",
    "\n",
    "counts = count_vectorizer.transform(data_df['text'])\n",
    "text = transformer.transform(counts)\n",
    "\n",
    "models['lr'].predict(text)"
   ]
  },
  {
   "cell_type": "markdown",
   "metadata": {},
   "source": [
    "<h3>3.5. Model accuracy stats</h3>"
   ]
  },
  {
   "cell_type": "code",
   "execution_count": 35,
   "metadata": {},
   "outputs": [
    {
     "name": "stdout",
     "output_type": "stream",
     "text": [
      "              precision    recall  f1-score   support\n",
      "\n",
      "           0       0.75      0.73      0.74      1351\n",
      "           1       0.74      0.76      0.75      1380\n",
      "\n",
      "    accuracy                           0.74      2731\n",
      "   macro avg       0.74      0.74      0.74      2731\n",
      "weighted avg       0.74      0.74      0.74      2731\n",
      "\n",
      "              precision    recall  f1-score   support\n",
      "\n",
      "           0       0.85      0.85      0.85      1351\n",
      "           1       0.86      0.85      0.85      1380\n",
      "\n",
      "    accuracy                           0.85      2731\n",
      "   macro avg       0.85      0.85      0.85      2731\n",
      "weighted avg       0.85      0.85      0.85      2731\n",
      "\n",
      "              precision    recall  f1-score   support\n",
      "\n",
      "           0       0.86      0.84      0.85      1351\n",
      "           1       0.85      0.86      0.85      1380\n",
      "\n",
      "    accuracy                           0.85      2731\n",
      "   macro avg       0.85      0.85      0.85      2731\n",
      "weighted avg       0.85      0.85      0.85      2731\n",
      "\n",
      "              precision    recall  f1-score   support\n",
      "\n",
      "           0       0.75      0.70      0.73      1351\n",
      "           1       0.73      0.77      0.75      1380\n",
      "\n",
      "    accuracy                           0.74      2731\n",
      "   macro avg       0.74      0.74      0.74      2731\n",
      "weighted avg       0.74      0.74      0.74      2731\n",
      "\n"
     ]
    }
   ],
   "source": [
    "print(classification_reports['dtree'])\n",
    "print(classification_reports['lr'])\n",
    "print(classification_reports['svc'])\n",
    "print(classification_reports['bayes'])"
   ]
  },
  {
   "cell_type": "markdown",
   "metadata": {},
   "source": [
    "<h3>3.6. Explain the model</h3>"
   ]
  },
  {
   "cell_type": "code",
   "execution_count": 51,
   "metadata": {},
   "outputs": [
    {
     "name": "stderr",
     "output_type": "stream",
     "text": [
      "/home/andrei/work/repos/github/datascience/venv/lib/python3.6/site-packages/lime/lime_text.py:116: FutureWarning: split() requires a non-empty pattern match.\n",
      "  self.as_list = [s for s in splitter.split(self.raw) if s]\n"
     ]
    },
    {
     "name": "stdout",
     "output_type": "stream",
     "text": [
      "Document id: 11\n",
      "Document text: astaz vazut film mi- placut lum creat pur simplu extraordinar imagin ved cinem 3d imax lucr m-a impresion povest ok general mi-au placut anum moment alte putin per total mi- placut film recomand vad lum minun par real timp\n",
      "True class: 1\n",
      "Predicted class: 1\n",
      "Explanations for class: 1\n",
      "('placut', 0.01378709855431613)\n",
      "('lum', 0.012687123392140088)\n",
      "('minun', 0.012631616686001707)\n",
      "('vazut', 0.010589176652991718)\n",
      "('extraordinar', 0.008960931954320512)\n",
      "('par', -0.00778420461172157)\n",
      "('recomand', 0.007713920539033889)\n",
      "('vad', 0.007595783852817189)\n",
      "('timp', -0.006865655977861468)\n",
      "('astaz', 0.006201770259938778)\n"
     ]
    }
   ],
   "source": [
    "explained_model = models['lr']\n",
    "idx = 11\n",
    "\n",
    "c = make_pipeline(count_vectorizer, explained_model)\n",
    "\n",
    "class_names=list(df_preproc_balanced.label.unique())\n",
    "explainer = LimeTextExplainer(class_names=class_names)\n",
    "\n",
    "# print(list(dataset_split['raw']['x_test'])[idx])\n",
    "# print(list(dataset_split['raw']['y_test'])[idx])\n",
    "\n",
    "exp = explainer.explain_instance(list(dataset_split['raw']['x_test'])[idx], c.predict_proba, num_features=10, labels=[0, 1])\n",
    "\n",
    "print('Document id: %d' % idx)\n",
    "print('Document text: %s' % list(dataset_split['raw']['x_test'])[idx])\n",
    "print('True class: %s' % list(dataset_split['raw']['y_test'])[idx])\n",
    "print('Predicted class: %d' % explained_model.predict(dataset_split['transformed']['x_test'])[idx])\n",
    "\n",
    "print ('Explanations for class: %s' % list(dataset_split['raw']['y_test'])[idx])\n",
    "print ('\\n'.join(map(str, exp.as_list(label=list(dataset_split['raw']['y_test'])[idx]))))"
   ]
  },
  {
   "cell_type": "markdown",
   "metadata": {},
   "source": [
    "<h2>4. NN-based classifier</h2>"
   ]
  },
  {
   "cell_type": "code",
   "execution_count": 14,
   "metadata": {},
   "outputs": [],
   "source": [
    "# code inspired from: https://towardsdatascience.com/machine-learning-word-embedding-sentiment-classification-using-keras-b83c28087456\n",
    "from tensorflow.keras.preprocessing.text import Tokenizer\n",
    "from tensorflow.keras.preprocessing.sequence import pad_sequences\n",
    "from tensorflow.keras.models import Sequential\n",
    "from tensorflow.keras.layers import Dense, Embedding, LSTM, GRU\n",
    "from tensorflow.keras.layers import Embedding, BatchNormalization\n",
    "from tensorflow.keras.initializers import Constant\n",
    "from tensorflow.keras import optimizers\n",
    "from tensorflow.keras.models import model_from_json\n",
    "import tensorflow"
   ]
  },
  {
   "cell_type": "markdown",
   "metadata": {},
   "source": [
    "<h3>4.1. Learn word embedding</h3>"
   ]
  },
  {
   "cell_type": "code",
   "execution_count": 34,
   "metadata": {},
   "outputs": [],
   "source": [
    "# join back words into strings\n",
    "df_preproc_str = df_raw.copy()\n",
    "df_preproc_str['text'] = df_preproc_str['text'].apply(lambda l: ' '.join(l))"
   ]
  },
  {
   "cell_type": "code",
   "execution_count": 35,
   "metadata": {},
   "outputs": [
    {
     "name": "stdout",
     "output_type": "stream",
     "text": [
      "17652\n",
      "max_length: 373\n",
      "vocab_size: 52890\n"
     ]
    }
   ],
   "source": [
    "# select a random subset of the texts\n",
    "df_raw_sample = df_raw.copy()#sample(10000)\n",
    "\n",
    "# split the model into train and test datasets\n",
    "x_train, x_test, y_train, y_test = model_selection.train_test_split(df_raw_sample['text'], df_raw_sample['label'], test_size=0.2)\n",
    "\n",
    "x_train = x_train.values\n",
    "x_test = x_test.values\n",
    "\n",
    "y_train = y_train.values\n",
    "y_test = y_test.values\n",
    "\n",
    "print(len(x_train) + len(x_test))\n",
    "\n",
    "x_all = list(x_train) + list(x_test)\n",
    "\n",
    "# define tokenizer object\n",
    "tokenizer_obj = Tokenizer()\n",
    "tokenizer_obj.fit_on_texts(x_all)\n",
    "\n",
    "# store tokenizer obj to file\n",
    "# code taken from: https://www.techcoil.com/blog/how-to-save-and-load-objects-to-and-from-file-in-python-via-facilities-from-the-pickle-module/\n",
    "with open('tokenizer.obj', 'wb') as tokenizer_file:\n",
    "    pickle.dump(tokenizer_obj, tokenizer_file)\n",
    "\n",
    "# pad sequences\n",
    "max_length = max([len(s.split()) for s in x_all])\n",
    "\n",
    "print('max_length: {}'.format(max_length))\n",
    "\n",
    "# define vocabulary size\n",
    "vocab_size = len(tokenizer_obj.word_index) + 1\n",
    "\n",
    "print('vocab_size: {}'.format(vocab_size))\n",
    "\n",
    "x_train_tokens = tokenizer_obj.texts_to_sequences(x_train)\n",
    "x_test_tokens = tokenizer_obj.texts_to_sequences(x_test)\n",
    "\n",
    "x_train_pad = pad_sequences(x_train_tokens, maxlen=max_length, padding='post')\n",
    "x_test_pad = pad_sequences(x_test_tokens, maxlen=max_length, padding='post')"
   ]
  },
  {
   "cell_type": "markdown",
   "metadata": {},
   "source": [
    "<h3>4.2. Build Model</h3>"
   ]
  },
  {
   "cell_type": "code",
   "execution_count": 36,
   "metadata": {},
   "outputs": [
    {
     "name": "stdout",
     "output_type": "stream",
     "text": [
      "Started building model structure...\n",
      "Done building model structure...\n",
      "Model: \"sequential_4\"\n",
      "_________________________________________________________________\n",
      "Layer (type)                 Output Shape              Param #   \n",
      "=================================================================\n",
      "embedding_4 (Embedding)      (None, 373, 100)          5289000   \n",
      "_________________________________________________________________\n",
      "gru_4 (GRU)                  (None, 64)                31872     \n",
      "_________________________________________________________________\n",
      "batch_normalization_4 (Batch (None, 64)                256       \n",
      "_________________________________________________________________\n",
      "dense_4 (Dense)              (None, 1)                 65        \n",
      "=================================================================\n",
      "Total params: 5,321,193\n",
      "Trainable params: 5,321,065\n",
      "Non-trainable params: 128\n",
      "_________________________________________________________________\n",
      "None\n"
     ]
    }
   ],
   "source": [
    "# check for nans: https://stackoverflow.com/questions/55051978/loss-of-cnn-in-keras-becomes-nan-at-some-point-of-training\n",
    "EMBEDDING_DIM = 100\n",
    "\n",
    "print('Started building model structure...')\n",
    "\n",
    "rnn_model = Sequential()\n",
    "rnn_model.add(Embedding(vocab_size, EMBEDDING_DIM, input_length=max_length))\n",
    "rnn_model.add(GRU(units=64, dropout=0.1, recurrent_dropout=0.1))\n",
    "rnn_model.add(BatchNormalization())\n",
    "rnn_model.add(Dense(1, activation='sigmoid'))\n",
    "\n",
    "_optimizer = optimizers.RMSprop(lr=0.01)\n",
    "\n",
    "# try using different optimizers and fidderent optimizer configs\n",
    "rnn_model.compile(loss='binary_crossentropy', optimizer=_optimizer,\n",
    "              metrics=['accuracy'])\n",
    "\n",
    "print('Done building model structure...')\n",
    "print(rnn_model.summary())"
   ]
  },
  {
   "cell_type": "markdown",
   "metadata": {},
   "source": [
    "<h3>4.3. Train Model</h3>"
   ]
  },
  {
   "cell_type": "code",
   "execution_count": 37,
   "metadata": {},
   "outputs": [
    {
     "name": "stdout",
     "output_type": "stream",
     "text": [
      "Started training the model...\n",
      "Train on 14121 samples, validate on 3531 samples\n",
      "Epoch 1/100\n",
      "14121/14121 - 176s - loss: 0.6804 - accuracy: 0.5960 - val_loss: 0.7253 - val_accuracy: 0.3733\n",
      "Epoch 2/100\n",
      "14121/14121 - 159s - loss: 0.3754 - accuracy: 0.8225 - val_loss: 0.2723 - val_accuracy: 0.8901\n",
      "Epoch 3/100\n",
      "14121/14121 - 165s - loss: 0.1653 - accuracy: 0.9383 - val_loss: 0.2938 - val_accuracy: 0.8895\n",
      "Epoch 4/100\n",
      "14121/14121 - 149s - loss: 0.0984 - accuracy: 0.9670 - val_loss: 0.3261 - val_accuracy: 0.8929\n",
      "Epoch 5/100\n",
      "14121/14121 - 149s - loss: 0.0763 - accuracy: 0.9744 - val_loss: 0.4245 - val_accuracy: 0.8737\n",
      "Epoch 6/100\n",
      "14121/14121 - 142s - loss: 0.0635 - accuracy: 0.9793 - val_loss: 0.4261 - val_accuracy: 0.8765\n",
      "Epoch 7/100\n",
      "14121/14121 - 142s - loss: 0.0620 - accuracy: 0.9787 - val_loss: 0.4430 - val_accuracy: 0.8856\n",
      "Epoch 8/100\n",
      "14121/14121 - 142s - loss: 0.0605 - accuracy: 0.9813 - val_loss: 0.4060 - val_accuracy: 0.8726\n",
      "Epoch 9/100\n",
      "14121/14121 - 142s - loss: 0.0561 - accuracy: 0.9810 - val_loss: 0.4827 - val_accuracy: 0.8720\n",
      "Epoch 10/100\n",
      "14121/14121 - 144s - loss: 0.0580 - accuracy: 0.9805 - val_loss: 0.5137 - val_accuracy: 0.8731\n",
      "Epoch 11/100\n",
      "14121/14121 - 177s - loss: 0.0562 - accuracy: 0.9823 - val_loss: 0.5185 - val_accuracy: 0.8689\n",
      "Epoch 12/100\n",
      "14121/14121 - 182s - loss: 0.0567 - accuracy: 0.9815 - val_loss: 0.4586 - val_accuracy: 0.8774\n",
      "Epoch 13/100\n",
      "14121/14121 - 185s - loss: 0.0532 - accuracy: 0.9828 - val_loss: 0.5881 - val_accuracy: 0.8643\n",
      "Epoch 14/100\n",
      "14121/14121 - 174s - loss: 0.0580 - accuracy: 0.9804 - val_loss: 0.4838 - val_accuracy: 0.8658\n",
      "Done training the model...\n",
      "CPU times: user 1h 41min 31s, sys: 8min 24s, total: 1h 49min 56s\n",
      "Wall time: 37min 7s\n"
     ]
    }
   ],
   "source": [
    "%%time\n",
    "print('Started training the model...')\n",
    "early_stopping = tensorflow.keras.callbacks.EarlyStopping(monitor='val_accuracy', patience=10)\n",
    "history = rnn_model.fit(x_train_pad, y_train, \n",
    "                        batch_size=32, \n",
    "                        epochs=100, \n",
    "                        validation_data=(x_test_pad, y_test), \n",
    "                        callbacks=[early_stopping],\n",
    "                        verbose=2)\n",
    "print('Done training the model...')"
   ]
  },
  {
   "cell_type": "markdown",
   "metadata": {},
   "source": [
    "<h3>4.4. Plot train history</h3>"
   ]
  },
  {
   "cell_type": "code",
   "execution_count": 38,
   "metadata": {},
   "outputs": [
    {
     "name": "stdout",
     "output_type": "stream",
     "text": [
      "dict_keys(['loss', 'accuracy', 'val_loss', 'val_accuracy'])\n"
     ]
    },
    {
     "data": {
      "image/png": "[encoded data removed]",
      "text/plain": [
       "<Figure size 432x288 with 1 Axes>"
      ]
     },
     "metadata": {
      "needs_background": "light"
     },
     "output_type": "display_data"
    },
    {
     "data": {
      "image/png": "[encoded data removed]",
      "text/plain": [
       "<Figure size 432x288 with 1 Axes>"
      ]
     },
     "metadata": {
      "needs_background": "light"
     },
     "output_type": "display_data"
    }
   ],
   "source": [
    "print(history.history.keys())\n",
    "\n",
    "import matplotlib.pyplot as plt\n",
    "\n",
    "# Plot training & validation accuracy values\n",
    "plt.plot(history.history['accuracy'])\n",
    "plt.plot(history.history['val_accuracy'])\n",
    "plt.title('Model accuracy')\n",
    "plt.ylabel('Accuracy')\n",
    "plt.xlabel('Epoch')\n",
    "plt.legend(['Train', 'Test'], loc='lower right')\n",
    "plt.show()\n",
    "\n",
    "# Plot training & validation loss values\n",
    "plt.plot(history.history['loss'])\n",
    "plt.plot(history.history['val_loss'])\n",
    "plt.title('Model loss')\n",
    "plt.ylabel('Loss')\n",
    "plt.xlabel('Epoch')\n",
    "plt.legend(['Train', 'Test'], loc='center right')\n",
    "plt.show()"
   ]
  },
  {
   "cell_type": "code",
   "execution_count": 39,
   "metadata": {},
   "outputs": [
    {
     "name": "stdout",
     "output_type": "stream",
     "text": [
      "Started saving model JSON to ./model_sentiment_rnn.json\n",
      "Done saving model JSON to ./model_sentiment_rnn.json\n",
      "Started saving model weights to ./model_sentiment_rnn.h5\n",
      "Done saving model weights to ./model_sentiment_rnn.h5\n"
     ]
    }
   ],
   "source": [
    "# Code inspired from: \n",
    "# - https://machinelearningmastery.com/save-load-keras-deep-learning-models/\n",
    "def store_model(_model, path='./', file_prefix='model_sentiment_rnn'):\n",
    "    \n",
    "    # serialize model to JSON\n",
    "    model_json = _model.to_json()\n",
    "    json_file_path = os.path.join(path, \"{}.json\".format(file_prefix))\n",
    "    print('Started saving model JSON to {}'.format(json_file_path))\n",
    "    assert os.path.exists(path)\n",
    "    with open(json_file_path, \"w+\") as json_file:\n",
    "        json_file.write(model_json)\n",
    "    print(\"Done saving model JSON to {}\".format(json_file_path))\n",
    "    \n",
    "    # serialize weights to HDF5\n",
    "    weights_file_path = os.path.join(path, '{}.h5'.format(file_prefix))\n",
    "    print(\"Started saving model weights to {}\".format(weights_file_path))\n",
    "    _model.save_weights(weights_file_path)\n",
    "    print(\"Done saving model weights to {}\".format(weights_file_path))\n",
    "\n",
    "def load_model(path='./', file_prefix='model_sentiment_rnn'):\n",
    "    # load json and create model\n",
    "    print('Started loading model from JSON file')\n",
    "    with open('{}.json'.format(file_prefix), 'r') as json_file:\n",
    "        loaded_model_json = json_file.read()\n",
    "    loaded_model = model_from_json(loaded_model_json)\n",
    "    print('Done loading model from JSON file')\n",
    "    \n",
    "    # load weights into new model\n",
    "    print(\"Starting loading model from disk\")\n",
    "    weights_file_path = os.path.join(path, '{}.h5'.format(file_prefix))\n",
    "    assert os.path.exists(weights_file_path)\n",
    "    loaded_model.load_weights(weights_file_path)\n",
    "    print(\"Done loading model from disk from file: {}\".format(weights_file_path))\n",
    "    return loaded_model\n",
    "\n",
    "# save model:\n",
    "store_model(rnn_model)\n",
    "# model = load_model()\n",
    "# print(model)"
   ]
  },
  {
   "cell_type": "markdown",
   "metadata": {},
   "source": [
    "<h3>4.5. Test Model</h3>"
   ]
  },
  {
   "cell_type": "code",
   "execution_count": 40,
   "metadata": {},
   "outputs": [
    {
     "data": {
      "text/plain": [
       "array([[0.99709034],\n",
       "       [0.01067615],\n",
       "       [0.7751931 ]], dtype=float32)"
      ]
     },
     "execution_count": 40,
     "metadata": {},
     "output_type": "execute_result"
    }
   ],
   "source": [
    "test_sample1 = 'Filmul este fantastic! Imi place foarte mult!'\n",
    "test_sample2 = 'Filmul este groaznic! Nu l-as viziona!'\n",
    "test_sample3 = 'Filmul este so-so. As merge mai degraba la teatru.'\n",
    "test_samples = [test_sample1, test_sample2, test_sample3]\n",
    "\n",
    "test_samples_tokens = tokenizer_obj.texts_to_sequences(test_samples)\n",
    "test_samples_tokens_pad = pad_sequences(test_samples_tokens, maxlen=max_length)\n",
    "\n",
    "# predict\n",
    "rnn_model.predict(x=test_samples_tokens_pad)"
   ]
  },
  {
   "cell_type": "markdown",
   "metadata": {},
   "source": [
    "<h3>4.6. Train word2vec Embedding</h3>"
   ]
  },
  {
   "cell_type": "code",
   "execution_count": 41,
   "metadata": {},
   "outputs": [
    {
     "name": "stdout",
     "output_type": "stream",
     "text": [
      "Vocabulary size: 29709\n"
     ]
    }
   ],
   "source": [
    "# inspiration: https://towardsdatascience.com/machine-learning-word-embedding-sentiment-classification-using-keras-b83c28087456\n",
    "import gensim\n",
    "\n",
    "review_lines = list(df['text'])\n",
    "\n",
    "# train word2vec model\n",
    "gensim_model = gensim.models.Word2Vec(sentences=review_lines, size=EMBEDDING_DIM, window=5, workers=4, min_count=1)\n",
    "\n",
    "# vocab size\n",
    "words = list(gensim_model.wv.vocab)\n",
    "print('Vocabulary size: %d' % len(words))"
   ]
  },
  {
   "cell_type": "markdown",
   "metadata": {},
   "source": [
    "<h3>4.7. Test Word2Vec Model</h3>"
   ]
  },
  {
   "cell_type": "code",
   "execution_count": 42,
   "metadata": {},
   "outputs": [
    {
     "data": {
      "text/plain": [
       "[('interioar', 0.9962716102600098),\n",
       " ('betiv', 0.995508074760437),\n",
       " ('intalnest', 0.9940503239631653),\n",
       " ('portret', 0.9936536550521851),\n",
       " ('interconect', 0.9932307004928589),\n",
       " ('impotr', 0.9924734830856323),\n",
       " ('conflict', 0.9922173619270325),\n",
       " ('anchet', 0.9921332597732544),\n",
       " ('centrat', 0.992021918296814),\n",
       " ('leag', 0.991718053817749)]"
      ]
     },
     "execution_count": 42,
     "metadata": {},
     "output_type": "execute_result"
    }
   ],
   "source": [
    "gensim_model.wv.most_similar('politist')"
   ]
  },
  {
   "cell_type": "code",
   "execution_count": 43,
   "metadata": {},
   "outputs": [
    {
     "name": "stdout",
     "output_type": "stream",
     "text": [
      "copac\n"
     ]
    },
    {
     "name": "stderr",
     "output_type": "stream",
     "text": [
      "/home/andrei/work/repos/github/datascience/venv/lib/python3.6/site-packages/gensim/models/keyedvectors.py:877: FutureWarning: arrays to stack must be passed as a \"sequence\" type such as list or tuple. Support for non-sequence iterables such as generators is deprecated as of NumPy 1.16 and will raise an error in the future.\n",
      "  vectors = vstack(self.word_vec(word, use_norm=True) for word in used_words).astype(REAL)\n"
     ]
    }
   ],
   "source": [
    "# odd word out\n",
    "print(gensim_model.wv.doesnt_match(\"rebel impotr protagonist copac\".split()))"
   ]
  },
  {
   "cell_type": "code",
   "execution_count": null,
   "metadata": {},
   "outputs": [],
   "source": []
  }
 ],
 "metadata": {
  "kernelspec": {
   "display_name": "Python 3",
   "language": "python",
   "name": "python3"
  },
  "language_info": {
   "codemirror_mode": {
    "name": "ipython",
    "version": 3
   },
   "file_extension": ".py",
   "mimetype": "text/x-python",
   "name": "python",
   "nbconvert_exporter": "python",
   "pygments_lexer": "ipython3",
   "version": "3.6.9"
  }
 },
 "nbformat": 4,
 "nbformat_minor": 4
}
